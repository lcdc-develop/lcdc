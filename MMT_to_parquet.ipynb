{
 "cells": [
  {
   "cell_type": "code",
   "execution_count": 1,
   "metadata": {},
   "outputs": [],
   "source": [
    "from datasets import load_dataset, Dataset\n",
    "from pandas import DataFrame\n",
    "from lcdc import utils\n",
    "from lcdc.vars import Variability"
   ]
  },
  {
   "cell_type": "code",
   "execution_count": 2,
   "metadata": {},
   "outputs": [],
   "source": [
    "MMT_PATH = \"/home/k/kyselica12/work/mmt/MMT\"\n",
    "object_list = utils.load_rsos_from_csv(f\"{MMT_PATH}/rso.csv\")\n",
    "objects = {obj.norad_id: obj for obj in object_list}\n",
    "track_list = utils.load_tracks_from_csv(f\"{MMT_PATH}/tracks.csv\")"
   ]
  },
  {
   "cell_type": "markdown",
   "metadata": {},
   "source": [
    "# Transform MMT to parquet"
   ]
  },
  {
   "cell_type": "code",
   "execution_count": 28,
   "metadata": {},
   "outputs": [
    {
     "name": "stderr",
     "output_type": "stream",
     "text": [
      "100%|██████████| 2272/2272 [00:01<00:00, 1281.29it/s]\n"
     ]
    },
    {
     "name": "stdout",
     "output_type": "stream",
     "text": [
      "Saving 2024-09-29 - 2024-10-12\n"
     ]
    },
    {
     "data": {
      "application/vnd.jupyter.widget-view+json": {
       "model_id": "7e928ae2b5984f5ba7ae64e7d7d4a776",
       "version_major": 2,
       "version_minor": 0
      },
      "text/plain": [
       "Creating parquet from Arrow format:   0%|          | 0/3 [00:00<?, ?ba/s]"
      ]
     },
     "metadata": {},
     "output_type": "display_data"
    }
   ],
   "source": [
    "from collections import defaultdict\n",
    "from tqdm import tqdm\n",
    "def var_to_int(var):\n",
    "    match var:\n",
    "        case Variability.APERIODIC:\n",
    "            return 0\n",
    "        case Variability.PERIODIC:\n",
    "            return 1\n",
    "        case Variability.NONVARIABLE:\n",
    "            return 2\n",
    "        case _:\n",
    "            raise ValueError(f\"Unknown variability: {var}\")\n",
    "\n",
    "    \n",
    "track_list_by_time = sorted(track_list, key=lambda t: t.timestamp)\n",
    "\n",
    "SIZE = 10_000\n",
    "for i in range(29*SIZE, len(track_list_by_time), SIZE):\n",
    "    data = defaultdict(list)\n",
    "    for track in tqdm(track_list[i:i+SIZE]):\n",
    "        if track.norad_id not in objects:\n",
    "            continue\n",
    "        track.load_data_from_file(f\"{MMT_PATH}/data\")\n",
    "        data[\"norad_id\"].append(track.norad_id)\n",
    "        data[\"id\"].append(track.id)\n",
    "        data[\"period\"].append(track.period)\n",
    "        data[\"timestamp\"].append(track.timestamp)\n",
    "        data[\"data\"].append(track.data)\n",
    "        data[\"name\"].append(objects[track.norad_id].name)\n",
    "        data[\"variability\"].append(var_to_int(objects[track.norad_id].variability))\n",
    "    # print(i, len(track_list_by_time), i, i+SIZE)\n",
    "    start = track_list_by_time[i].timestamp.split(\" \")[0]\n",
    "    end = track_list_by_time[min(i+SIZE-1, len(track_list_by_time)-1)].timestamp.split(\" \")[0]\n",
    "    ds = Dataset.from_dict(data)\n",
    "    print(f\"Saving {start} - {end}\")\n",
    "    ds.to_parquet(f\"../MMT_parquet/{start}_{end}.parquet\")\n",
    "    del ds\n",
    "    del data\n"
   ]
  },
  {
   "cell_type": "markdown",
   "metadata": {},
   "source": [
    "# Load parquet files to Dataset"
   ]
  },
  {
   "cell_type": "code",
   "execution_count": 3,
   "metadata": {},
   "outputs": [],
   "source": [
    "from lcdc import DatasetBuilder\n",
    "from lcdc import vars\n",
    "from lcdc import utils\n",
    "import os\n",
    "from datasets import Dataset, load_from_disk, concatenate_datasets\n",
    "from memory_profiler import memory_usage\n",
    "DATA_PATH = \"/home/k/kyselica12/work/mmt/MMT_parquet\""
   ]
  },
  {
   "cell_type": "code",
   "execution_count": 3,
   "metadata": {},
   "outputs": [
    {
     "name": "stdout",
     "output_type": "stream",
     "text": [
      "2015-07-25_2016-01-21.parquet\n",
      "2023-01-20_2023-06-01.parquet\n",
      "2020-06-29_2020-09-21.parquet\n",
      "2023-07-20_2023-09-15.parquet\n",
      "2019-05-23_2019-10-14.parquet\n",
      "2020-02-19_2020-06-29.parquet\n",
      "2021-01-20_2021-06-16.parquet\n",
      "2020-09-21_2021-01-20.parquet\n",
      "2024-05-04_2024-07-02.parquet\n",
      "2014-06-04_2014-11-10.parquet\n",
      "2016-08-23_2017-03-13.parquet\n"
     ]
    },
    {
     "data": {
      "application/vnd.jupyter.widget-view+json": {
       "model_id": "869c1e0703e04e0691eb3f0d66197028",
       "version_major": 2,
       "version_minor": 0
      },
      "text/plain": [
       "Generating train split: 0 examples [00:00, ? examples/s]"
      ]
     },
     "metadata": {},
     "output_type": "display_data"
    },
    {
     "name": "stdout",
     "output_type": "stream",
     "text": [
      "2018-07-18_2018-11-09.parquet\n"
     ]
    },
    {
     "data": {
      "application/vnd.jupyter.widget-view+json": {
       "model_id": "5464dd358c5445ceb6a45fbb2ef05258",
       "version_major": 2,
       "version_minor": 0
      },
      "text/plain": [
       "Generating train split: 0 examples [00:00, ? examples/s]"
      ]
     },
     "metadata": {},
     "output_type": "display_data"
    },
    {
     "name": "stdout",
     "output_type": "stream",
     "text": [
      "2022-01-09_2022-06-05.parquet\n"
     ]
    },
    {
     "data": {
      "application/vnd.jupyter.widget-view+json": {
       "model_id": "0bfb1a213f064adea8e7f8331c623ba0",
       "version_major": 2,
       "version_minor": 0
      },
      "text/plain": [
       "Generating train split: 0 examples [00:00, ? examples/s]"
      ]
     },
     "metadata": {},
     "output_type": "display_data"
    },
    {
     "name": "stdout",
     "output_type": "stream",
     "text": [
      "2021-09-05_2022-01-09.parquet\n"
     ]
    },
    {
     "data": {
      "application/vnd.jupyter.widget-view+json": {
       "model_id": "06af15330a504d32a55d49a9d084e2a5",
       "version_major": 2,
       "version_minor": 0
      },
      "text/plain": [
       "Generating train split: 0 examples [00:00, ? examples/s]"
      ]
     },
     "metadata": {},
     "output_type": "display_data"
    },
    {
     "name": "stdout",
     "output_type": "stream",
     "text": [
      "2014-11-10_2015-07-25.parquet\n"
     ]
    },
    {
     "data": {
      "application/vnd.jupyter.widget-view+json": {
       "model_id": "192bd93c9f2f42e690d5385de49ab55d",
       "version_major": 2,
       "version_minor": 0
      },
      "text/plain": [
       "Generating train split: 0 examples [00:00, ? examples/s]"
      ]
     },
     "metadata": {},
     "output_type": "display_data"
    },
    {
     "name": "stdout",
     "output_type": "stream",
     "text": [
      "2018-01-26_2018-07-18.parquet\n"
     ]
    },
    {
     "data": {
      "application/vnd.jupyter.widget-view+json": {
       "model_id": "5e550c1233c2443e9f41e7118a287543",
       "version_major": 2,
       "version_minor": 0
      },
      "text/plain": [
       "Generating train split: 0 examples [00:00, ? examples/s]"
      ]
     },
     "metadata": {},
     "output_type": "display_data"
    },
    {
     "name": "stdout",
     "output_type": "stream",
     "text": [
      "2021-06-16_2021-09-05.parquet\n"
     ]
    },
    {
     "data": {
      "application/vnd.jupyter.widget-view+json": {
       "model_id": "e6cb890b508d4133aa520c0f53ad8240",
       "version_major": 2,
       "version_minor": 0
      },
      "text/plain": [
       "Generating train split: 0 examples [00:00, ? examples/s]"
      ]
     },
     "metadata": {},
     "output_type": "display_data"
    },
    {
     "name": "stdout",
     "output_type": "stream",
     "text": [
      "2022-06-05_2022-08-10.parquet\n"
     ]
    },
    {
     "data": {
      "application/vnd.jupyter.widget-view+json": {
       "model_id": "ae96c7cb62c84d88bd705d20359f4505",
       "version_major": 2,
       "version_minor": 0
      },
      "text/plain": [
       "Generating train split: 0 examples [00:00, ? examples/s]"
      ]
     },
     "metadata": {},
     "output_type": "display_data"
    },
    {
     "name": "stdout",
     "output_type": "stream",
     "text": [
      "2017-03-13_2017-08-07.parquet\n"
     ]
    },
    {
     "data": {
      "application/vnd.jupyter.widget-view+json": {
       "model_id": "2bf199166ff84d22ac8b3cf68bb00c1b",
       "version_major": 2,
       "version_minor": 0
      },
      "text/plain": [
       "Generating train split: 0 examples [00:00, ? examples/s]"
      ]
     },
     "metadata": {},
     "output_type": "display_data"
    },
    {
     "name": "stdout",
     "output_type": "stream",
     "text": [
      "2023-06-01_2023-07-20.parquet\n"
     ]
    },
    {
     "data": {
      "application/vnd.jupyter.widget-view+json": {
       "model_id": "45b0183f20f44144909778d043b2d6cd",
       "version_major": 2,
       "version_minor": 0
      },
      "text/plain": [
       "Generating train split: 0 examples [00:00, ? examples/s]"
      ]
     },
     "metadata": {},
     "output_type": "display_data"
    },
    {
     "name": "stdout",
     "output_type": "stream",
     "text": [
      "2016-01-21_2016-08-23.parquet\n"
     ]
    },
    {
     "data": {
      "application/vnd.jupyter.widget-view+json": {
       "model_id": "e953747b733c438c8c22beb77793c415",
       "version_major": 2,
       "version_minor": 0
      },
      "text/plain": [
       "Generating train split: 0 examples [00:00, ? examples/s]"
      ]
     },
     "metadata": {},
     "output_type": "display_data"
    },
    {
     "name": "stdout",
     "output_type": "stream",
     "text": [
      "2018-11-09_2019-05-23.parquet\n"
     ]
    },
    {
     "data": {
      "application/vnd.jupyter.widget-view+json": {
       "model_id": "14004686d3c64f44806d18cdfacda3b9",
       "version_major": 2,
       "version_minor": 0
      },
      "text/plain": [
       "Generating train split: 0 examples [00:00, ? examples/s]"
      ]
     },
     "metadata": {},
     "output_type": "display_data"
    },
    {
     "name": "stdout",
     "output_type": "stream",
     "text": [
      "2024-09-29_2024-10-12.parquet\n"
     ]
    },
    {
     "data": {
      "application/vnd.jupyter.widget-view+json": {
       "model_id": "aa839b9761e64fa2aec0d61de4e2fa57",
       "version_major": 2,
       "version_minor": 0
      },
      "text/plain": [
       "Generating train split: 0 examples [00:00, ? examples/s]"
      ]
     },
     "metadata": {},
     "output_type": "display_data"
    },
    {
     "name": "stdout",
     "output_type": "stream",
     "text": [
      "2022-11-08_2023-01-20.parquet\n"
     ]
    },
    {
     "data": {
      "application/vnd.jupyter.widget-view+json": {
       "model_id": "a54500ae5fca4160be9fc44360bb110b",
       "version_major": 2,
       "version_minor": 0
      },
      "text/plain": [
       "Generating train split: 0 examples [00:00, ? examples/s]"
      ]
     },
     "metadata": {},
     "output_type": "display_data"
    },
    {
     "name": "stdout",
     "output_type": "stream",
     "text": [
      "2024-07-02_2024-09-29.parquet\n"
     ]
    },
    {
     "data": {
      "application/vnd.jupyter.widget-view+json": {
       "model_id": "0ff334e8da00428ab414f395c9a1ef4b",
       "version_major": 2,
       "version_minor": 0
      },
      "text/plain": [
       "Generating train split: 0 examples [00:00, ? examples/s]"
      ]
     },
     "metadata": {},
     "output_type": "display_data"
    },
    {
     "name": "stdout",
     "output_type": "stream",
     "text": [
      "2022-08-10_2022-11-08.parquet\n"
     ]
    },
    {
     "data": {
      "application/vnd.jupyter.widget-view+json": {
       "model_id": "89e0d135b2734de5a2e2a92e888b8278",
       "version_major": 2,
       "version_minor": 0
      },
      "text/plain": [
       "Generating train split: 0 examples [00:00, ? examples/s]"
      ]
     },
     "metadata": {},
     "output_type": "display_data"
    },
    {
     "name": "stdout",
     "output_type": "stream",
     "text": [
      "2023-12-31_2024-05-03.parquet\n"
     ]
    },
    {
     "data": {
      "application/vnd.jupyter.widget-view+json": {
       "model_id": "4d0f5b0165034f5cae3c1424ef83d83f",
       "version_major": 2,
       "version_minor": 0
      },
      "text/plain": [
       "Generating train split: 0 examples [00:00, ? examples/s]"
      ]
     },
     "metadata": {},
     "output_type": "display_data"
    },
    {
     "name": "stdout",
     "output_type": "stream",
     "text": [
      "2023-09-15_2023-12-31.parquet\n"
     ]
    },
    {
     "data": {
      "application/vnd.jupyter.widget-view+json": {
       "model_id": "57908da4440048579671916434c8126a",
       "version_major": 2,
       "version_minor": 0
      },
      "text/plain": [
       "Generating train split: 0 examples [00:00, ? examples/s]"
      ]
     },
     "metadata": {},
     "output_type": "display_data"
    },
    {
     "name": "stdout",
     "output_type": "stream",
     "text": [
      "2019-10-14_2020-02-19.parquet\n"
     ]
    },
    {
     "data": {
      "application/vnd.jupyter.widget-view+json": {
       "model_id": "20abf282bc2b4eb1b04c084163ee68f1",
       "version_major": 2,
       "version_minor": 0
      },
      "text/plain": [
       "Generating train split: 0 examples [00:00, ? examples/s]"
      ]
     },
     "metadata": {},
     "output_type": "display_data"
    },
    {
     "name": "stdout",
     "output_type": "stream",
     "text": [
      "2017-08-07_2018-01-26.parquet\n"
     ]
    },
    {
     "data": {
      "application/vnd.jupyter.widget-view+json": {
       "model_id": "208261703bf544f28f1d1899cd5e8056",
       "version_major": 2,
       "version_minor": 0
      },
      "text/plain": [
       "Generating train split: 0 examples [00:00, ? examples/s]"
      ]
     },
     "metadata": {},
     "output_type": "display_data"
    },
    {
     "name": "stdout",
     "output_type": "stream",
     "text": [
      "Memory usage: 925.03125 MiB\n"
     ]
    }
   ],
   "source": [
    "\n",
    "\n",
    "    # load parquet file to Dataset\n",
    "    # ds = load_from_disk(f\"{DATA_PATH}/{parquet_file}\")\n",
    "def load_file():\n",
    "    i = 0\n",
    "    DS = None\n",
    "    for parquet_file in os.listdir(DATA_PATH):\n",
    "        # if i >= 10:\n",
    "            # break\n",
    "        i += 1\n",
    "        print(parquet_file)\n",
    "        ds = Dataset.from_parquet(f\"{DATA_PATH}/{parquet_file}\")\n",
    "        if DS is None:\n",
    "            DS = ds\n",
    "        else:\n",
    "            DS = concatenate_datasets([DS, ds])\n",
    "\n",
    "mem_usage = memory_usage(load_file)\n",
    "print(f\"Memory usage: {max(mem_usage) - min(mem_usage)} MiB\")\n",
    "\n"
   ]
  },
  {
   "cell_type": "code",
   "execution_count": 4,
   "metadata": {},
   "outputs": [],
   "source": [
    "ds = Dataset.from_parquet(f\"{DATA_PATH}/2015-07-25_2016-01-21.parquet\")"
   ]
  },
  {
   "cell_type": "code",
   "execution_count": 7,
   "metadata": {},
   "outputs": [
    {
     "data": {
      "application/vnd.jupyter.widget-view+json": {
       "model_id": "79dc180e327a4d8bb7c3d9f4543ef6ae",
       "version_major": 2,
       "version_minor": 0
      },
      "text/plain": [
       "Creating SQL from Arrow format:   0%|          | 0/10 [00:00<?, ?ba/s]"
      ]
     },
     "metadata": {},
     "output_type": "display_data"
    },
    {
     "data": {
      "text/plain": [
       "9579"
      ]
     },
     "execution_count": 7,
     "metadata": {},
     "output_type": "execute_result"
    }
   ],
   "source": [
    "ds.to_sql(\"data\", \"sqlite:///data.db\")"
   ]
  },
  {
   "cell_type": "code",
   "execution_count": 8,
   "metadata": {},
   "outputs": [
    {
     "data": {
      "application/vnd.jupyter.widget-view+json": {
       "model_id": "c18a6876d28547e68a408792ca82760f",
       "version_major": 2,
       "version_minor": 0
      },
      "text/plain": [
       "Generating train split: 0 examples [00:00, ? examples/s]"
      ]
     },
     "metadata": {},
     "output_type": "display_data"
    }
   ],
   "source": [
    "# Load data from SQLite\n",
    "ds2 = Dataset.from_sql(\"data\", \"sqlite:///data.db\")\n"
   ]
  },
  {
   "cell_type": "code",
   "execution_count": 12,
   "metadata": {},
   "outputs": [
    {
     "data": {
      "text/plain": [
       "4440"
      ]
     },
     "execution_count": 12,
     "metadata": {},
     "output_type": "execute_result"
    }
   ],
   "source": [
    "len(ds2['data'][0])"
   ]
  },
  {
   "cell_type": "code",
   "execution_count": 14,
   "metadata": {},
   "outputs": [
    {
     "data": {
      "text/plain": [
       "555"
      ]
     },
     "execution_count": 14,
     "metadata": {},
     "output_type": "execute_result"
    }
   ],
   "source": [
    "len(ds['data'][0])"
   ]
  },
  {
   "cell_type": "code",
   "execution_count": 15,
   "metadata": {},
   "outputs": [],
   "source": [
    "ds = ds.with_format(\"numpy\", columns=[\"data\"])"
   ]
  },
  {
   "cell_type": "code",
   "execution_count": 5,
   "metadata": {},
   "outputs": [],
   "source": [
    "import pyarrow.parquet as pq\n",
    "\n",
    "table = pq.read_table(f\"{DATA_PATH}/2015-07-25_2016-01-21.parquet\")"
   ]
  },
  {
   "cell_type": "code",
   "execution_count": 6,
   "metadata": {},
   "outputs": [],
   "source": [
    "\n",
    "import pyarrow as pa\n",
    "i = 0\n",
    "files= []\n",
    "tables = []\n",
    "for parquet_file in os.listdir(DATA_PATH):\n",
    "    if i >= 10:\n",
    "        break\n",
    "    i += 1\n",
    "    tables.append(pq.read_table(f\"{DATA_PATH}/{parquet_file}\"))\n",
    "    files.append(f\"{DATA_PATH}/{parquet_file}\")"
   ]
  },
  {
   "cell_type": "code",
   "execution_count": 8,
   "metadata": {},
   "outputs": [],
   "source": [
    "dataset = pq.ParquetDataset(files)\n",
    "table = dataset.read()"
   ]
  },
  {
   "cell_type": "code",
   "execution_count": 9,
   "metadata": {},
   "outputs": [],
   "source": [
    "import pyarrow.compute as pc\n",
    "x = table.filter(pc.field('norad_id') == 25043)"
   ]
  },
  {
   "cell_type": "code",
   "execution_count": 11,
   "metadata": {},
   "outputs": [
    {
     "data": {
      "text/plain": [
       "(<pyarrow.Int64Scalar: 25772>, pyarrow.lib.BooleanArray)"
      ]
     },
     "execution_count": 11,
     "metadata": {},
     "output_type": "execute_result"
    }
   ],
   "source": [
    "mask = pc.is_in(table['norad_id'], value_set=pa.array([25043, 25772]))\n",
    "x = table.filter(mask.combine_chunks())\n",
    "x['norad_id'][10], type(mask.combine_chunks())"
   ]
  },
  {
   "cell_type": "code",
   "execution_count": 17,
   "metadata": {},
   "outputs": [],
   "source": [
    "# Compute the mean, std for 'norad_id' column\n",
    "mean = pc.mean(table['id'])\n"
   ]
  },
  {
   "cell_type": "code",
   "execution_count": 108,
   "metadata": {},
   "outputs": [],
   "source": [
    "z = []\n",
    "for i  in table['name']:\n",
    "    z.append(i.as_py().replace(\"/\", \"_\"))"
   ]
  },
  {
   "cell_type": "code",
   "execution_count": 117,
   "metadata": {},
   "outputs": [],
   "source": [
    "xx = table.append_column(\"label\", pa.array(z))"
   ]
  },
  {
   "cell_type": "code",
   "execution_count": 123,
   "metadata": {},
   "outputs": [],
   "source": [
    "xx = xx.filter(pc.field('label') != \"SCOUT B-1 R_B\")"
   ]
  },
  {
   "cell_type": "code",
   "execution_count": 124,
   "metadata": {},
   "outputs": [
    {
     "data": {
      "text/plain": [
       "<pyarrow.lib.ChunkedArray object at 0x7f593072a2a0>\n",
       "[\n",
       "  [\n",
       "    \"IRIDIUM 38\",\n",
       "    \"ATLAS CENTAUR R_B\",\n",
       "    \"TITAN 3A TRANSTAGE R_B\",\n",
       "    \"THOR ABLESTAR R_B\",\n",
       "    \"YAOGAN 15\",\n",
       "    ...\n",
       "    \"GLOBALSTAR M027\",\n",
       "    \"NOVA 1\",\n",
       "    \"GLOBALSTAR M035\",\n",
       "    \"GLOBALSTAR M086\",\n",
       "    \"ATLAS 2AS CENTAUR R_B\"\n",
       "  ],\n",
       "  [\n",
       "    \"USA 59\",\n",
       "    \"CZ-3A R_B\",\n",
       "    \"OV1-9\",\n",
       "    \"DEBUT (ORIZURU)\",\n",
       "    \"OPS 0100 (TRANSIT 15)\",\n",
       "    ...\n",
       "    \"CZ-4B DEB\",\n",
       "    \"IRIDIUM 55\",\n",
       "    \"IRIDIUM 33 DEB\",\n",
       "    \"IRIDIUM 33 DEB\",\n",
       "    \"ORBCOMM FM 106\"\n",
       "  ],\n",
       "...,\n",
       "  [\n",
       "    \"ORBCOMM FM 24\",\n",
       "    \"ORBVIEW 1 (MICROLAB)\",\n",
       "    \"DUMMY MASS 2\",\n",
       "    \"ORBCOMM FM 27\",\n",
       "    \"IRS 1A\",\n",
       "    ...\n",
       "    \"DELTA 2 R_B\",\n",
       "    \"DELTA 1 DEB\",\n",
       "    \"SCOUT A-1 R_B\",\n",
       "    \"PEGASUS R_B\",\n",
       "    \"DELTA 1 DEB\"\n",
       "  ],\n",
       "  [\n",
       "    \"GLOBALSTAR M088\",\n",
       "    \"ARIANE 40 R_B\",\n",
       "    \"SARAL\",\n",
       "    \"GLOBALSTAR M044\",\n",
       "    \"EXPLORER 29 (GEOS 1)\",\n",
       "    ...\n",
       "    \"GLOBALSTAR M047\",\n",
       "    \"GLOBALSTAR M051\",\n",
       "    \"GLOBALSTAR M022\",\n",
       "    \"GLOBALSTAR M058\",\n",
       "    \"EXPLORER 38 (RAE-A)\"\n",
       "  ]\n",
       "]"
      ]
     },
     "execution_count": 124,
     "metadata": {},
     "output_type": "execute_result"
    }
   ],
   "source": [
    "xx['label']"
   ]
  },
  {
   "cell_type": "code",
   "execution_count": 128,
   "metadata": {},
   "outputs": [],
   "source": [
    "m = list(map(lambda x: x.as_py() != 0,xx['period']))"
   ]
  },
  {
   "cell_type": "code",
   "execution_count": 135,
   "metadata": {},
   "outputs": [
    {
     "data": {
      "text/plain": [
       "(177, 5)"
      ]
     },
     "execution_count": 135,
     "metadata": {},
     "output_type": "execute_result"
    }
   ],
   "source": [
    "import numpy as np\n",
    "np.array(xx['data'][0].as_py()).shape"
   ]
  },
  {
   "cell_type": "code",
   "execution_count": 141,
   "metadata": {},
   "outputs": [
    {
     "data": {
      "text/plain": [
       "pyarrow.Table\n",
       "norad_id: int64\n",
       "id: int64\n",
       "period: double\n",
       "timestamp: string\n",
       "data: list<element: list<element: double>>\n",
       "  child 0, element: list<element: double>\n",
       "      child 0, element: double\n",
       "name: string\n",
       "variability: int64\n",
       "label: string\n",
       "----\n",
       "norad_id: [[25043,12445,1001,669,38354,...,25884,12458,25851,38045,26906],[20641,31116,2610,20479,2754,...,27433,25272,33886,33773,40088],...,[25478,23547,24926,25481,18960,...,40060,7893,6910,25561,12200],[37740,21610,39086,25678,1726,...,25772,25853,25649,25907,3307]]\n",
       "id: [[8152773,8152972,8152974,8153099,8153210,...,8327694,8327705,8327715,8327739,8327825],[8327829,8327837,8327886,8327896,8327913,...,8449458,8449464,8449466,8449478,8449492],...,[3147905,3147965,3147990,3148037,3148087,...,3958414,3958440,3958480,3958778,3959076],[3959103,3959385,3959394,3959519,3959691,...,4244216,4244860,4245232,4245500,4247370]]\n",
       "period: [[0,44.55,0,0,0,...,0,0,0,0,0],[0,113.5984254,0,0,0,...,0,0,0,6.19741088,0],...,[0,0,0,0,0,...,0,0,0,0,0],[0,0,0,0,0,...,0,23.8093814093,0,0,0]]\n",
       "timestamp: [[\"2015-07-25 21:55:45.689000\",\"2015-07-25 22:00:25.596000\",\"2015-07-25 22:02:25.403000\",\"2015-07-25 22:11:11.403000\",\"2015-07-25 22:17:59.503000\",...,\"2015-08-07 20:18:03.271000\",\"2015-08-07 20:18:53.400000\",\"2015-08-07 20:20:01.200000\",\"2015-08-07 20:21:54.200000\",\"2015-08-07 20:27:14.897000\"],[\"2015-08-07 20:26:45.200000\",\"2015-08-07 20:27:01.797000\",\"2015-08-07 20:31:01.199000\",\"2015-08-07 20:34:45.100000\",\"2015-08-07 20:35:53.897000\",...,\"2015-08-19 01:00:09.898000\",\"2015-08-19 01:00:37.998000\",\"2015-08-19 01:00:43.897000\",\"2015-08-19 01:01:15.898000\",\"2015-08-19 01:02:35.898000\"],...,[\"2014-10-14 16:43:55.131000\",\"2014-10-14 16:44:40.360000\",\"2014-10-14 16:45:13.249000\",\"2014-10-14 16:45:05.031000\",\"2014-10-14 16:45:26.376000\",...,\"2014-11-04 15:35:05.225000\",\"2014-11-04 15:36:10.887000\",\"2014-11-04 15:36:43.376000\",\"2014-11-04 15:39:37.681000\",\"2014-11-04 15:42:39.044000\"],[\"2014-11-04 15:42:12.407000\",\"2014-11-04 15:45:21.453000\",\"2014-11-04 15:44:59.023000\",\"2014-11-04 15:46:12.667000\",\"2014-11-04 15:48:04.868000\",...,\"2014-11-09 23:11:20.699000\",\"2014-11-09 23:19:37.738000\",\"2014-11-09 23:29:44.482000\",\"2014-11-09 23:33:29.546000\",\"2014-11-10 00:07:34.325000\"]]\n",
       "data: [[[[0,5.751,62.148,779.448,16],[0.10000014305114746,5.738,62.203,779.438,16],...,[20.300000190734863,6.078,73.157,790.363,16],[20.40000009536743,5.943,73.21,790.48,16]],[[0,4.182,28.968,9581.575,1],[0.10000014305114746,4.016,28.969,9581.722,1],...,[148.3989999294281,4.865,29.951,9797.679,1],[148.49900007247925,4.71,29.952,9797.823,1]],...,[[0,6.422,58.701,1433.05,1],[0.09999990463256836,6.417,58.678,1433.02,1],...,[106.79699993133545,6.103,36.622,1547.026,1],[106.89699983596802,6.268,36.606,1547.26,1]],[[0,5.643,69.228,1018.127,1],[0.09999990463256836,5.632,69.251,1018.17,1],...,[69.02699995040894,5.952,85.368,1143.106,1],[69.1269998550415,6.033,85.39,1143.41,1]]],[[[0,4.861,77.201,10121.534,1],[0.09999990463256836,4.294,77.199,10121.375,1],...,[514.396999835968,5.213,67.387,9290.399,1],[514.4969999790192,5.007,67.384,9290.236,1]],[[0,3.175,71.754,7722.748,1],[0.10000014305114746,3.293,71.752,7722.373,1],...,[286.8010001182556,6.386,64.315,6662.631,1],[287.00100016593933,5.81,64.309,6661.911,1]],...,[[0,10.572,68.835,787.388,1],[0.09999990463256836,10.629,68.804,787.371,1],...,[53.39800000190735,9.278,55.53,863.84,1],[53.49799990653992,9.378,55.513,864.13,1]],[[0,8.335,54.299,762.322,1],[0.09999990463256836,8.339,54.35,762.101,1],...,[52.59999990463257,8.441,83.499,728.992,1],[53,8.311,83.722,729.406,1]]],...,[[[0,6.578,97.38,1030.398,1],[0.09999990463256836,6.492,97.35,1029.982,1],...,[21.200000047683716,6.873,90.552,948.878,1],[21.299999952316284,6.961,90.517,948.527,1]],[[0,7.515,104.937,977.663,1],[0.20000004768371582,7.414,104.922,976.886,1],...,[61.30800008773804,6.183,98.513,818.909,1],[61.407999992370605,6.184,98.5,818.805,1]],...,[[0,7.337,75.256,965.194,1],[0.09999990463256836,7.3,75.229,964.722,1],...,[68.5699999332428,7.342,50.938,734.351,1],[68.67000007629395,7.554,50.897,734.193,1]],[[0,9.21,66.194,826.009,1],[0.10000014305114746,8.348,66.215,826.318,1],...,[11.990000009536743,8.601,68.726,866.636,1],[12.09000015258789,9.008,68.747,867.003,1]]],[[[0,5.871,67.297,1745.178,1],[0.09999990463256836,5.869,67.276,1745.29,1],...,[124.20299983024597,5.062,44.523,2023.634,1],[124.30299997329712,5.081,44.508,2023.955,1]],[[0,4.193,49.014,1007.528,1],[0.09999990463256836,4.195,49.042,1007.791,1],...,[60.04199981689453,4.418,64.438,1232.127,1],[60.14199995994568,4.297,64.459,1232.592,1]],...,[[0,7.796,83.537,2198.234,1],[0.09999990463256836,7.202,83.55,2198.502,1],...,[54.50099992752075,4.791,90.699,2360.916,1],[54.6010000705719,4.699,90.712,2361.243,1]],[[0,5.707,23.053,6637.749,1],[0.09999990463256836,5.772,23.057,6637.893,1],...,[118.15999984741211,6.471,27.252,6823.469,1],[118.35999989509583,5.951,27.259,6823.809,1]]]]\n",
       "name: [[\"False\",\"True\",\"False\",\"False\",\"False\",...,\"False\",\"True\",\"False\",\"False\",\"False\"]]\n",
       "variability: [[1,1,1,2,0,...,1,0,0,0,1],[2,1,0,0,0,...,0,0,0,1,0],...,[0,0,2,0,0,...,0,2,2,0,2],[0,2,0,1,2,...,1,1,1,1,0]]\n",
       "label: [[\"IRIDIUM 38\",\"ATLAS CENTAUR R_B\",\"TITAN 3A TRANSTAGE R_B\",\"THOR ABLESTAR R_B\",\"YAOGAN 15\",...,\"GLOBALSTAR M027\",\"NOVA 1\",\"GLOBALSTAR M035\",\"GLOBALSTAR M086\",\"ATLAS 2AS CENTAUR R_B\"],[\"USA 59\",\"CZ-3A R_B\",\"OV1-9\",\"DEBUT (ORIZURU)\",\"OPS 0100 (TRANSIT 15)\",...,\"CZ-4B DEB\",\"IRIDIUM 55\",\"IRIDIUM 33 DEB\",\"IRIDIUM 33 DEB\",\"ORBCOMM FM 106\"],...,[\"ORBCOMM FM 24\",\"ORBVIEW 1 (MICROLAB)\",\"DUMMY MASS 2\",\"ORBCOMM FM 27\",\"IRS 1A\",...,\"DELTA 2 R_B\",\"DELTA 1 DEB\",\"SCOUT A-1 R_B\",\"PEGASUS R_B\",\"DELTA 1 DEB\"],[\"GLOBALSTAR M088\",\"ARIANE 40 R_B\",\"SARAL\",\"GLOBALSTAR M044\",\"EXPLORER 29 (GEOS 1)\",...,\"GLOBALSTAR M047\",\"GLOBALSTAR M051\",\"GLOBALSTAR M022\",\"GLOBALSTAR M058\",\"EXPLORER 38 (RAE-A)\"]]"
      ]
     },
     "execution_count": 141,
     "metadata": {},
     "output_type": "execute_result"
    }
   ],
   "source": [
    "xx.set_column(xx.schema.get_field_index(\"name\"), \"name\", pa.array(list(map(str, m))))"
   ]
  },
  {
   "cell_type": "code",
   "execution_count": 143,
   "metadata": {},
   "outputs": [
    {
     "data": {
      "text/plain": [
       "177"
      ]
     },
     "execution_count": 143,
     "metadata": {},
     "output_type": "execute_result"
    }
   ],
   "source": [
    "len(xx['data'][0])"
   ]
  },
  {
   "cell_type": "code",
   "execution_count": 157,
   "metadata": {},
   "outputs": [],
   "source": [
    "splits = [[0,len(x)] for x in table['data']]\n",
    "sp = table.append_column(\"split\", pa.array(splits))"
   ]
  },
  {
   "cell_type": "code",
   "execution_count": 156,
   "metadata": {},
   "outputs": [
    {
     "name": "stdout",
     "output_type": "stream",
     "text": [
      "5438 norad_id\n",
      "8152757 id\n",
      "0.0 period\n",
      "2015-07-25 21:55:14.998000 timestamp\n",
      "[[0.0, 9.136, 66.073, 870.767, 1.0], [0.10000014305114746, 9.048, 66.089, 870.494, 1.0], [0.20000004768371582, 9.383, 66.106, 870.221, 1.0], [0.3000001907348633, 9.376, 66.123, 869.948, 1.0], [0.40000009536743164, 8.842, 66.139, 869.676, 1.0], [0.5, 9.117, 66.156, 869.404, 1.0], [0.6000001430511475, 8.598, 66.173, 869.132, 1.0], [0.7000000476837158, 8.715, 66.19, 868.861, 1.0], [0.8000001907348633, 9.015, 66.207, 868.591, 1.0], [0.9000000953674316, 8.592, 66.223, 868.321, 1.0], [1.0, 8.692, 66.24, 868.051, 1.0], [1.1000001430511475, 8.578, 66.257, 867.782, 1.0], [1.3000001907348633, 8.857, 66.291, 867.245, 1.0], [1.4000000953674316, 8.341, 66.308, 866.977, 1.0], [1.5, 8.593, 66.325, 866.709, 1.0], [1.6000001430511475, 8.565, 66.342, 866.442, 1.0], [1.698000192642212, 8.907, 66.359, 866.181, 1.0], [1.7000000476837158, 8.478, 66.359, 866.175, 1.0], [1.7980000972747803, 8.943, 66.376, 865.915, 1.0], [1.8000001907348633, 8.52, 66.376, 865.909, 1.0], [1.8980000019073486, 8.755, 66.393, 865.649, 1.0], [1.9000000953674316, 8.695, 66.393, 865.643, 1.0], [1.998000144958496, 8.585, 66.41, 865.383, 1.0], [2.0, 8.644, 66.41, 865.378, 1.0], [2.0980000495910645, 8.99, 66.427, 865.119, 1.0], [2.1000001430511475, 8.526, 66.428, 865.113, 1.0], [2.198000192642212, 8.749, 66.444, 864.854, 1.0], [2.200000047683716, 8.478, 66.445, 864.849, 1.0], [2.2980000972747803, 8.723, 66.462, 864.59, 1.0], [2.3000001907348633, 8.545, 66.462, 864.585, 1.0], [2.3980000019073486, 8.729, 66.479, 864.326, 1.0], [2.4000000953674316, 8.387, 66.479, 864.321, 1.0], [2.498000144958496, 8.495, 66.496, 864.063, 1.0], [2.5, 8.665, 66.496, 864.058, 1.0], [2.5980000495910645, 8.68, 66.513, 863.801, 1.0], [2.6000001430511475, 8.616, 66.514, 863.795, 1.0], [2.698000192642212, 8.583, 66.531, 863.538, 1.0], [2.700000047683716, 8.559, 66.531, 863.533, 1.0], [2.7980000972747803, 8.828, 66.548, 863.276, 1.0], [2.8000001907348633, 8.261, 66.548, 863.271, 1.0], [2.8980000019073486, 8.676, 66.565, 863.015, 1.0], [2.9000000953674316, 8.495, 66.566, 863.01, 1.0], [2.998000144958496, 8.512, 66.583, 862.754, 1.0], [3.0, 8.495, 66.583, 862.749, 1.0], [3.0980000495910645, 8.6, 66.6, 862.494, 1.0], [3.1000001430511475, 8.444, 66.6, 862.488, 1.0], [3.198000192642212, 8.708, 66.617, 862.233, 1.0], [3.200000047683716, 8.384, 66.618, 862.228, 1.0], [3.2980000972747803, 8.665, 66.635, 861.974, 1.0], [3.3000001907348633, 8.474, 66.635, 861.969, 1.0], [3.3980000019073486, 8.751, 66.652, 861.715, 1.0], [3.4000000953674316, 8.488, 66.653, 861.709, 1.0], [3.498000144958496, 8.659, 66.67, 861.456, 1.0], [3.5, 8.466, 66.67, 861.451, 1.0], [3.5980000495910645, 8.643, 66.687, 861.198, 1.0], [3.6000001430511475, 8.512, 66.688, 861.192, 1.0], [3.698000192642212, 8.456, 66.705, 860.94, 1.0], [3.700000047683716, 8.353, 66.705, 860.935, 1.0], [3.7980000972747803, 8.458, 66.722, 860.682, 1.0], [3.8000001907348633, 8.334, 66.723, 860.677, 1.0], [3.8980000019073486, 8.581, 66.74, 860.425, 1.0], [3.9000000953674316, 8.493, 66.74, 860.42, 1.0], [3.998000144958496, 8.687, 66.757, 860.169, 1.0], [4.0, 8.288, 66.758, 860.164, 1.0], [4.0980000495910645, 8.53, 66.775, 859.913, 1.0], [4.1000001430511475, 8.346, 66.775, 859.908, 1.0], [4.198000192642212, 8.494, 66.793, 859.657, 1.0], [4.200000047683716, 8.477, 66.793, 859.652, 1.0], [4.29800009727478, 8.457, 66.81, 859.402, 1.0], [4.300000190734863, 8.371, 66.811, 859.397, 1.0], [4.398000001907349, 8.501, 66.828, 859.147, 1.0], [4.400000095367432, 8.263, 66.828, 859.142, 1.0], [4.498000144958496, 8.568, 66.846, 858.893, 1.0], [4.5, 8.479, 66.846, 858.888, 1.0], [4.5980000495910645, 8.545, 66.863, 858.639, 1.0], [4.6000001430511475, 8.332, 66.864, 858.634, 1.0], [4.698000192642212, 8.487, 66.881, 858.386, 1.0], [4.700000047683716, 8.316, 66.882, 858.381, 1.0], [4.79800009727478, 8.686, 66.899, 858.133, 1.0], [4.800000190734863, 8.272, 66.899, 858.128, 1.0], [4.898000001907349, 8.427, 66.917, 857.88, 1.0], [4.900000095367432, 8.237, 66.917, 857.875, 1.0], [4.998000144958496, 8.527, 66.935, 857.628, 1.0], [5.0, 8.352, 66.935, 857.623, 1.0], [5.0980000495910645, 8.553, 66.952, 857.376, 1.0], [5.1000001430511475, 8.466, 66.953, 857.371, 1.0], [5.198000192642212, 8.687, 66.97, 857.125, 1.0], [5.200000047683716, 8.232, 66.971, 857.12, 1.0], [5.29800009727478, 8.609, 66.988, 856.875, 1.0], [5.300000190734863, 8.422, 66.989, 856.87, 1.0], [5.398000001907349, 8.487, 67.006, 856.624, 1.0], [5.400000095367432, 8.295, 67.006, 856.619, 1.0], [5.498000144958496, 8.583, 67.024, 856.375, 1.0], [5.5, 8.329, 67.024, 856.37, 1.0], [5.5980000495910645, 8.321, 67.042, 856.125, 1.0], [5.6000001430511475, 8.378, 67.042, 856.12, 1.0], [5.698000192642212, 8.539, 67.06, 855.876, 1.0], [5.700000047683716, 8.204, 67.06, 855.871, 1.0], [5.79800009727478, 8.398, 67.078, 855.628, 1.0], [5.800000190734863, 8.324, 67.078, 855.623, 1.0], [5.898000001907349, 8.545, 67.096, 855.38, 1.0], [5.900000095367432, 8.393, 67.096, 855.375, 1.0], [5.998000144958496, 8.35, 67.114, 855.132, 1.0], [6.0, 8.339, 67.114, 855.127, 1.0], [6.0980000495910645, 8.339, 67.132, 854.885, 1.0], [6.1000001430511475, 8.229, 67.132, 854.88, 1.0], [6.198000192642212, 8.541, 67.15, 854.639, 1.0], [6.200000047683716, 8.363, 67.151, 854.634, 1.0], [6.29800009727478, 8.448, 67.168, 854.392, 1.0], [6.300000190734863, 8.218, 67.169, 854.387, 1.0], [6.398000001907349, 8.543, 67.186, 854.147, 1.0], [6.400000095367432, 8.306, 67.187, 854.142, 1.0], [6.498000144958496, 8.473, 67.205, 853.901, 1.0], [6.5, 8.149, 67.205, 853.896, 1.0], [6.5980000495910645, 8.453, 67.223, 853.656, 1.0], [6.6000001430511475, 8.223, 67.223, 853.652, 1.0], [6.698000192642212, 8.469, 67.241, 853.412, 1.0], [6.700000047683716, 8.07, 67.241, 853.407, 1.0], [6.79800009727478, 8.293, 67.259, 853.168, 1.0], [6.800000190734863, 8.263, 67.26, 853.163, 1.0], [6.898000001907349, 8.394, 67.278, 852.925, 1.0], [6.900000095367432, 8.238, 67.278, 852.92, 1.0], [6.998000144958496, 8.521, 67.296, 852.682, 1.0], [7.0, 8.093, 67.296, 852.677, 1.0], [7.0980000495910645, 8.43, 67.314, 852.439, 1.0], [7.1000001430511475, 8.189, 67.315, 852.434, 1.0], [7.198000192642212, 8.448, 67.332, 852.197, 1.0], [7.200000047683716, 8.398, 67.333, 852.192, 1.0], [7.29800009727478, 8.431, 67.351, 851.955, 1.0], [7.300000190734863, 8.246, 67.351, 851.951, 1.0], [7.398000001907349, 8.575, 67.369, 851.714, 1.0], [7.400000095367432, 8.201, 67.37, 851.709, 1.0], [7.498000144958496, 8.365, 67.388, 851.474, 1.0], [7.5, 8.168, 67.388, 851.469, 1.0], [7.5980000495910645, 8.318, 67.406, 851.233, 1.0], [7.6000001430511475, 8.372, 67.406, 851.229, 1.0], [7.698000192642212, 8.391, 67.425, 850.994, 1.0], [7.700000047683716, 8.259, 67.425, 850.989, 1.0], [7.79800009727478, 8.455, 67.443, 850.754, 1.0], [7.800000190734863, 8.214, 67.443, 850.749, 1.0], [7.898000001907349, 8.502, 67.461, 850.515, 1.0], [7.900000095367432, 8.196, 67.462, 850.511, 1.0], [7.998000144958496, 8.33, 67.48, 850.277, 1.0], [8.0, 7.971, 67.48, 850.272, 1.0], [8.098000049591064, 8.389, 67.499, 850.039, 1.0], [8.100000143051147, 8.437, 67.499, 850.034, 1.0], [8.198000192642212, 7.991, 67.517, 849.801, 1.0], [8.200000047683716, 8.182, 67.517, 849.797, 1.0], [8.29800009727478, 8.338, 67.536, 849.564, 1.0], [8.300000190734863, 8.253, 67.536, 849.56, 1.0], [8.398000001907349, 8.296, 67.554, 849.328, 1.0], [8.400000095367432, 8.176, 67.555, 849.323, 1.0], [8.498000144958496, 8.486, 67.573, 849.092, 1.0], [8.5, 8.133, 67.573, 849.087, 1.0], [8.598000049591064, 8.375, 67.592, 848.856, 1.0], [8.600000143051147, 8.188, 67.592, 848.851, 1.0], [8.698000192642212, 8.299, 67.61, 848.621, 1.0], [8.700000047683716, 8.155, 67.611, 848.616, 1.0], [8.79800009727478, 8.274, 67.629, 848.386, 1.0], [8.800000190734863, 8.194, 67.629, 848.382, 1.0], [8.898000001907349, 8.358, 67.648, 848.152, 1.0], [8.900000095367432, 8.151, 67.648, 848.147, 1.0], [8.998000144958496, 8.14, 67.666, 847.918, 1.0], [9.0, 8.148, 67.667, 847.913, 1.0], [9.098000049591064, 8.416, 67.685, 847.685, 1.0], [9.100000143051147, 8.085, 67.686, 847.68, 1.0], [9.198000192642212, 8.4, 67.704, 847.452, 1.0], [9.200000047683716, 8.262, 67.704, 847.447, 1.0], [9.29800009727478, 8.273, 67.723, 847.22, 1.0], [9.300000190734863, 8.044, 67.723, 847.215, 1.0], [9.398000001907349, 8.242, 67.742, 846.988, 1.0], [9.400000095367432, 8.235, 67.742, 846.983, 1.0], [9.498000144958496, 8.356, 67.761, 846.756, 1.0], [9.5, 8.354, 67.761, 846.752, 1.0], [9.598000049591064, 8.312, 67.779, 846.525, 1.0], [9.600000143051147, 8.235, 67.78, 846.521, 1.0], [9.698000192642212, 8.38, 67.798, 846.295, 1.0], [9.700000047683716, 8.133, 67.799, 846.29, 1.0], [9.79800009727478, 8.292, 67.817, 846.065, 1.0], [9.800000190734863, 8.22, 67.818, 846.06, 1.0], [9.898000001907349, 8.114, 67.836, 845.835, 1.0], [9.900000095367432, 8.263, 67.837, 845.83, 1.0], [9.998000144958496, 8.304, 67.855, 845.606, 1.0], [10.0, 8.181, 67.856, 845.601, 1.0], [10.098000049591064, 8.164, 67.874, 845.377, 1.0], [10.100000143051147, 8.216, 67.875, 845.373, 1.0], [10.198000192642212, 8.146, 67.893, 845.149, 1.0], [10.200000047683716, 8.145, 67.894, 845.144, 1.0], [10.29800009727478, 8.243, 67.912, 844.921, 1.0], [10.300000190734863, 8.102, 67.913, 844.917, 1.0], [10.398000001907349, 8.365, 67.931, 844.694, 1.0], [10.400000095367432, 8.191, 67.932, 844.69, 1.0], [10.498000144958496, 8.263, 67.951, 844.467, 1.0], [10.5, 8.251, 67.951, 844.463, 1.0], [10.598000049591064, 8.173, 67.97, 844.241, 1.0], [10.600000143051147, 8.166, 67.97, 844.236, 1.0], [10.698000192642212, 8.178, 67.989, 844.015, 1.0], [10.700000047683716, 8.05, 67.989, 844.011, 1.0], [10.79800009727478, 8.184, 68.008, 843.79, 1.0], [10.800000190734863, 8.084, 68.008, 843.785, 1.0], [10.898000001907349, 8.281, 68.027, 843.565, 1.0], [10.900000095367432, 8.278, 68.028, 843.56, 1.0], [10.998000144958496, 8.323, 68.046, 843.34, 1.0], [11.0, 8.189, 68.047, 843.336, 1.0], [11.098000049591064, 8.207, 68.066, 843.117, 1.0], [11.100000143051147, 8.179, 68.066, 843.112, 1.0], [11.198000192642212, 8.087, 68.085, 842.893, 1.0], [11.200000047683716, 8.121, 68.085, 842.889, 1.0], [11.29800009727478, 8.21, 68.104, 842.67, 1.0], [11.300000190734863, 8.202, 68.105, 842.666, 1.0], [11.398000001907349, 8.176, 68.123, 842.448, 1.0], [11.400000095367432, 8.192, 68.124, 842.443, 1.0], [11.498000144958496, 8.074, 68.143, 842.225, 1.0], [11.5, 8.24, 68.143, 842.221, 1.0], [11.598000049591064, 8.216, 68.162, 842.004, 1.0], [11.600000143051147, 8.066, 68.163, 841.999, 1.0], [11.698000192642212, 8.196, 68.182, 841.783, 1.0], [11.700000047683716, 7.977, 68.182, 841.778, 1.0], [11.79800009727478, 8.295, 68.201, 841.562, 1.0], [11.800000190734863, 8.161, 68.201, 841.558, 1.0], [11.898000001907349, 8.227, 68.22, 841.342, 1.0], [11.900000095367432, 8.196, 68.221, 841.338, 1.0], [11.998000144958496, 8.136, 68.24, 841.122, 1.0], [12.0, 8.17, 68.24, 841.118, 1.0], [12.098000049591064, 8.22, 68.259, 840.903, 1.0], [12.100000143051147, 8.111, 68.26, 840.899, 1.0], [12.198000192642212, 8.067, 68.279, 840.684, 1.0], [12.200000047683716, 8.215, 68.279, 840.68, 1.0], [12.29800009727478, 8.137, 68.298, 840.466, 1.0], [12.300000190734863, 8.112, 68.299, 840.462, 1.0], [12.398000001907349, 8.099, 68.318, 840.248, 1.0], [12.400000095367432, 8.209, 68.318, 840.244, 1.0], [12.498000144958496, 8.367, 68.337, 840.031, 1.0], [12.5, 8.236, 68.338, 840.027, 1.0], [12.598000049591064, 8.1, 68.357, 839.814, 1.0], [12.600000143051147, 8.203, 68.357, 839.81, 1.0], [12.698000192642212, 8.057, 68.377, 839.598, 1.0], [12.700000047683716, 8.13, 68.377, 839.594, 1.0], [12.79800009727478, 8.055, 68.396, 839.382, 1.0], [12.800000190734863, 8.168, 68.397, 839.378, 1.0], [12.898000001907349, 8.151, 68.416, 839.167, 1.0], [12.900000095367432, 8.124, 68.416, 839.162, 1.0], [12.998000144958496, 8.157, 68.436, 838.952, 1.0], [13.0, 8.151, 68.436, 838.948, 1.0], [13.098000049591064, 8.202, 68.455, 838.737, 1.0], [13.100000143051147, 8.121, 68.456, 838.733, 1.0], [13.198000192642212, 8.237, 68.475, 838.523, 1.0], [13.200000047683716, 8.128, 68.475, 838.519, 1.0], [13.29800009727478, 8.099, 68.495, 838.31, 1.0], [13.300000190734863, 8.164, 68.495, 838.306, 1.0], [13.400000095367432, 8.18, 68.515, 838.093, 1.0], [13.5, 8.154, 68.535, 837.88, 1.0], [13.600000143051147, 8.158, 68.554, 837.668, 1.0], [13.700000047683716, 8.198, 68.574, 837.457, 1.0], [13.800000190734863, 8.163, 68.594, 837.246, 1.0], [13.900000095367432, 8.119, 68.614, 837.035, 1.0], [14.0, 8.105, 68.634, 836.825, 1.0], [14.100000143051147, 8.091, 68.654, 836.616, 1.0], [14.200000047683716, 8.117, 68.674, 836.406, 1.0], [14.300000190734863, 8.096, 68.694, 836.198, 1.0], [14.400000095367432, 8.051, 68.714, 835.99, 1.0], [14.5, 8.104, 68.734, 835.782, 1.0], [14.600000143051147, 8.386, 68.754, 835.575, 1.0], [14.700000047683716, 8.169, 68.774, 835.368, 1.0], [14.800000190734863, 8.146, 68.794, 835.162, 1.0], [14.900000095367432, 8.179, 68.814, 834.956, 1.0], [15.0, 8.19, 68.834, 834.751, 1.0], [15.100000143051147, 8.151, 68.854, 834.546, 1.0], [15.200000047683716, 8.203, 68.875, 834.342, 1.0], [15.300000190734863, 8.154, 68.895, 834.138, 1.0], [15.400000095367432, 8.29, 68.915, 833.935, 1.0], [15.5, 8.084, 68.935, 833.732, 1.0], [15.600000143051147, 8.217, 68.955, 833.53, 1.0], [15.700000047683716, 8.251, 68.976, 833.328, 1.0], [15.800000190734863, 8.162, 68.996, 833.127, 1.0], [15.900000095367432, 8.161, 69.016, 832.926, 1.0], [16.0, 8.125, 69.037, 832.726, 1.0], [16.100000143051147, 8.155, 69.057, 832.526, 1.0], [16.200000047683716, 8.129, 69.078, 832.327, 1.0], [16.300000190734863, 8.171, 69.098, 832.128, 1.0], [16.40000009536743, 8.157, 69.118, 831.929, 1.0], [16.5, 8.229, 69.139, 831.731, 1.0], [16.600000143051147, 8.196, 69.159, 831.534, 1.0], [16.700000047683716, 8.11, 69.18, 831.337, 1.0], [16.800000190734863, 8.123, 69.2, 831.141, 1.0], [16.90000009536743, 8.142, 69.221, 830.945, 1.0], [17.0, 8.187, 69.242, 830.749, 1.0], [17.100000143051147, 8.182, 69.262, 830.555, 1.0], [17.200000047683716, 8.285, 69.283, 830.36, 1.0], [17.300000190734863, 8.195, 69.303, 830.166, 1.0], [17.40000009536743, 8.398, 69.324, 829.973, 1.0], [17.5, 8.151, 69.345, 829.78, 1.0], [17.600000143051147, 8.074, 69.366, 829.587, 1.0], [17.700000047683716, 8.204, 69.386, 829.396, 1.0], [17.800000190734863, 8.223, 69.407, 829.204, 1.0], [17.90000009536743, 8.085, 69.428, 829.013, 1.0], [18.0, 8.139, 69.449, 828.823, 1.0], [18.100000143051147, 8.05, 69.469, 828.633, 1.0], [18.200000047683716, 8.027, 69.49, 828.443, 1.0], [18.300000190734863, 8.23, 69.511, 828.254, 1.0], [18.40000009536743, 8.236, 69.532, 828.066, 1.0], [18.5, 8.133, 69.553, 827.878, 1.0], [18.600000143051147, 8.076, 69.574, 827.69, 1.0], [18.700000047683716, 8.289, 69.595, 827.504, 1.0], [18.800000190734863, 8.21, 69.616, 827.317, 1.0], [18.90000009536743, 8.25, 69.637, 827.131, 1.0], [19.0, 8.147, 69.658, 826.946, 1.0], [19.100000143051147, 8.076, 69.679, 826.761, 1.0], [19.200000047683716, 8.205, 69.7, 826.576, 1.0], [19.300000190734863, 8.144, 69.721, 826.392, 1.0], [19.40000009536743, 8.138, 69.742, 826.209, 1.0], [19.5, 8.164, 69.763, 826.026, 1.0], [19.600000143051147, 8.191, 69.784, 825.844, 1.0], [19.700000047683716, 8.274, 69.806, 825.662, 1.0], [19.800000190734863, 8.1, 69.827, 825.48, 1.0], [19.90000009536743, 8.18, 69.848, 825.299, 1.0], [20.0, 8.188, 69.869, 825.119, 1.0], [20.100000143051147, 8.114, 69.891, 824.939, 1.0], [20.40000009536743, 8.361, 69.954, 824.402, 1.0], [20.5, 8.284, 69.976, 824.224, 1.0], [20.600000143051147, 8.202, 69.997, 824.047, 1.0], [20.700000047683716, 8.289, 70.019, 823.87, 1.0], [20.800000190734863, 8.291, 70.04, 823.694, 1.0], [20.801000118255615, 8.139, 70.04, 823.692, 1.0], [20.90000009536743, 7.993, 70.061, 823.518, 1.0], [20.901000022888184, 8.002, 70.062, 823.516, 1.0], [21.0, 8.257, 70.083, 823.342, 1.0], [21.00100016593933, 8.043, 70.083, 823.341, 1.0], [21.100000143051147, 8.17, 70.104, 823.168, 1.0], [21.1010000705719, 8.129, 70.105, 823.166, 1.0], [21.200000047683716, 8.252, 70.126, 822.993, 1.0], [21.200999975204468, 8.185, 70.126, 822.992, 1.0], [21.300000190734863, 8.138, 70.147, 822.819, 1.0], [21.301000118255615, 8.165, 70.148, 822.818, 1.0], [21.40000009536743, 8.168, 70.169, 822.646, 1.0], [21.401000022888184, 8.248, 70.169, 822.644, 1.0], [21.5, 8.126, 70.19, 822.473, 1.0], [21.50100016593933, 8.243, 70.191, 822.472, 1.0], [21.600000143051147, 8.276, 70.212, 822.301, 1.0], [21.6010000705719, 8.15, 70.212, 822.299, 1.0], [21.700000047683716, 8.362, 70.234, 822.129, 1.0], [21.700999975204468, 8.141, 70.234, 822.127, 1.0], [21.800000190734863, 8.213, 70.255, 821.958, 1.0], [21.801000118255615, 8.129, 70.256, 821.956, 1.0], [21.90000009536743, 8.156, 70.277, 821.787, 1.0], [21.901000022888184, 8.186, 70.277, 821.785, 1.0], [22.0, 8.098, 70.299, 821.617, 1.0], [22.00100016593933, 8.132, 70.299, 821.615, 1.0], [22.100000143051147, 8.132, 70.32, 821.447, 1.0], [22.1010000705719, 8.261, 70.321, 821.445, 1.0], [22.200000047683716, 8.318, 70.342, 821.278, 1.0], [22.200999975204468, 8.121, 70.342, 821.276, 1.0], [22.300000190734863, 8.243, 70.364, 821.109, 1.0], [22.301000118255615, 8.059, 70.364, 821.107, 1.0], [22.40000009536743, 8.222, 70.386, 820.941, 1.0], [22.401000022888184, 8.087, 70.386, 820.939, 1.0], [22.5, 8.245, 70.407, 820.773, 1.0], [22.50100016593933, 8.218, 70.408, 820.772, 1.0], [22.600000143051147, 8.263, 70.429, 820.606, 1.0], [22.6010000705719, 8.108, 70.429, 820.604, 1.0], [22.700000047683716, 8.18, 70.451, 820.439, 1.0], [22.700999975204468, 8.028, 70.451, 820.438, 1.0], [22.800000190734863, 8.209, 70.473, 820.273, 1.0], [22.801000118255615, 8.104, 70.473, 820.272, 1.0], [22.90000009536743, 8.216, 70.495, 820.108, 1.0], [22.901000022888184, 8.161, 70.495, 820.106, 1.0], [23.0, 8.138, 70.517, 819.942, 1.0], [23.00100016593933, 8.09, 70.517, 819.941, 1.0], [23.100000143051147, 8.232, 70.538, 819.778, 1.0], [23.1010000705719, 8.288, 70.539, 819.776, 1.0], [23.200000047683716, 8.372, 70.56, 819.614, 1.0], [23.200999975204468, 8.12, 70.561, 819.612, 1.0], [23.300000190734863, 8.226, 70.582, 819.45, 1.0], [23.301000118255615, 8.203, 70.583, 819.448, 1.0], [23.40000009536743, 8.22, 70.604, 819.287, 1.0], [23.401000022888184, 8.168, 70.604, 819.285, 1.0], [23.5, 8.179, 70.626, 819.124, 1.0], [23.50100016593933, 8.184, 70.626, 819.123, 1.0], [23.600000143051147, 8.227, 70.648, 818.962, 1.0], [23.6010000705719, 8.143, 70.648, 818.961, 1.0], [23.700000047683716, 8.208, 70.67, 818.801, 1.0], [23.700999975204468, 8.236, 70.671, 818.799, 1.0], [23.800000190734863, 8.342, 70.692, 818.64, 1.0], [23.801000118255615, 8.133, 70.693, 818.638, 1.0], [23.90000009536743, 8.162, 70.714, 818.479, 1.0], [23.901000022888184, 8.141, 70.715, 818.478, 1.0], [24.0, 8.387, 70.737, 818.319, 1.0], [24.00100016593933, 8.139, 70.737, 818.318, 1.0], [24.100000143051147, 8.331, 70.759, 818.16, 1.0], [24.1010000705719, 8.123, 70.759, 818.158, 1.0], [24.200000047683716, 8.251, 70.781, 818.001, 1.0], [24.200999975204468, 8.064, 70.781, 817.999, 1.0], [24.300000190734863, 8.225, 70.803, 817.843, 1.0], [24.301000118255615, 8.107, 70.803, 817.841, 1.0], [24.40000009536743, 8.171, 70.825, 817.685, 1.0], [24.401000022888184, 8.086, 70.825, 817.683, 1.0], [24.5, 8.269, 70.847, 817.527, 1.0], [24.50100016593933, 8.06, 70.848, 817.526, 1.0], [24.600000143051147, 8.279, 70.87, 817.37, 1.0], [24.6010000705719, 8.054, 70.87, 817.369, 1.0], [24.700000047683716, 8.286, 70.892, 817.214, 1.0], [24.700999975204468, 8.117, 70.892, 817.213, 1.0], [24.800000190734863, 8.114, 70.914, 817.058, 1.0], [24.801000118255615, 8.261, 70.914, 817.057, 1.0], [24.90000009536743, 8.322, 70.936, 816.903, 1.0], [24.901000022888184, 8.197, 70.937, 816.901, 1.0], [25.0, 8.203, 70.959, 816.748, 1.0], [25.00100016593933, 8.159, 70.959, 816.747, 1.0], [25.100000143051147, 8.146, 70.981, 816.594, 1.0], [25.1010000705719, 8.316, 70.981, 816.592, 1.0], [25.200000047683716, 8.227, 71.003, 816.44, 1.0], [25.200999975204468, 8.272, 71.003, 816.439, 1.0], [25.300000190734863, 8.099, 71.026, 816.287, 1.0], [25.301000118255615, 8.195, 71.026, 816.285, 1.0], [25.40000009536743, 8.275, 71.048, 816.134, 1.0], [25.401000022888184, 8.182, 71.048, 816.133, 1.0], [25.5, 8.202, 71.07, 815.982, 1.0], [25.50100016593933, 8.143, 71.071, 815.981, 1.0], [25.600000143051147, 8.279, 71.093, 815.83, 1.0], [25.6010000705719, 8.214, 71.093, 815.829, 1.0], [25.700000047683716, 8.249, 71.115, 815.679, 1.0], [25.700999975204468, 8.008, 71.116, 815.678, 1.0], [25.800000190734863, 8.164, 71.138, 815.529, 1.0], [25.801000118255615, 8.217, 71.138, 815.527, 1.0], [25.90000009536743, 8.22, 71.16, 815.379, 1.0], [25.901000022888184, 8.076, 71.16, 815.377, 1.0], [26.0, 8.304, 71.183, 815.229, 1.0], [26.00100016593933, 8.202, 71.183, 815.227, 1.0], [26.100000143051147, 8.193, 71.205, 815.08, 1.0], [26.1010000705719, 8.047, 71.205, 815.078, 1.0], [26.200000047683716, 8.218, 71.228, 814.931, 1.0], [26.200999975204468, 8.154, 71.228, 814.93, 1.0], [26.300000190734863, 8.352, 71.25, 814.783, 1.0], [26.301000118255615, 8.154, 71.251, 814.782, 1.0], [26.40000009536743, 8.24, 71.273, 814.636, 1.0], [26.401000022888184, 8.073, 71.273, 814.634, 1.0], [26.5, 8.216, 71.296, 814.489, 1.0], [26.50100016593933, 8.18, 71.296, 814.488, 1.0], [26.600000143051147, 8.148, 71.318, 814.343, 1.0], [26.6010000705719, 8.103, 71.318, 814.341, 1.0], [26.700000047683716, 8.223, 71.341, 814.197, 1.0], [26.700999975204468, 8.117, 71.341, 814.195, 1.0], [26.800000190734863, 8.278, 71.364, 814.051, 1.0], [26.801000118255615, 8.137, 71.364, 814.05, 1.0], [26.90000009536743, 8.364, 71.386, 813.906, 1.0], [26.901000022888184, 8.056, 71.386, 813.905, 1.0], [27.0, 8.227, 71.409, 813.762, 1.0], [27.00100016593933, 8.254, 71.409, 813.761, 1.0], [27.100000143051147, 8.402, 71.432, 813.618, 1.0], [27.1010000705719, 8.13, 71.432, 813.617, 1.0], [27.200000047683716, 8.348, 71.454, 813.475, 1.0], [27.200999975204468, 8.067, 71.455, 813.474, 1.0], [27.300000190734863, 8.158, 71.477, 813.332, 1.0], [27.301000118255615, 8.136, 71.477, 813.331, 1.0], [27.40000009536743, 8.222, 71.5, 813.19, 1.0], [27.401000022888184, 8.152, 71.5, 813.189, 1.0], [27.5, 8.216, 71.523, 813.048, 1.0], [27.50100016593933, 8.197, 71.523, 813.047, 1.0], [27.600000143051147, 8.343, 71.546, 812.907, 1.0], [27.6010000705719, 8.278, 71.546, 812.906, 1.0], [27.700000047683716, 8.2, 71.568, 812.767, 1.0], [27.700999975204468, 8.114, 71.569, 812.765, 1.0], [27.800000190734863, 8.183, 71.591, 812.627, 1.0], [27.801000118255615, 8.109, 71.592, 812.625, 1.0], [27.90000009536743, 8.126, 71.614, 812.487, 1.0], [27.901000022888184, 8.124, 71.614, 812.486, 1.0], [28.0, 8.102, 71.637, 812.348, 1.0], [28.00100016593933, 8.193, 71.637, 812.347, 1.0], [28.100000143051147, 8.253, 71.66, 812.209, 1.0], [28.1010000705719, 8.255, 71.66, 812.208, 1.0], [28.200000047683716, 8.147, 71.683, 812.071, 1.0], [28.200999975204468, 8.295, 71.683, 812.07, 1.0], [28.300000190734863, 8.188, 71.706, 811.934, 1.0], [28.301000118255615, 8.116, 71.706, 811.933, 1.0], [28.40000009536743, 8.327, 71.729, 811.797, 1.0], [28.401000022888184, 8.15, 71.729, 811.796, 1.0], [28.5, 8.096, 71.752, 811.661, 1.0], [28.50100016593933, 8.184, 71.752, 811.659, 1.0], [28.600000143051147, 8.178, 71.775, 811.525, 1.0], [28.6010000705719, 8.106, 71.775, 811.523, 1.0], [28.700000047683716, 8.198, 71.798, 811.389, 1.0], [28.700999975204468, 8.261, 71.798, 811.388, 1.0], [28.800000190734863, 8.21, 71.821, 811.255, 1.0], [28.801000118255615, 8.307, 71.821, 811.253, 1.0], [28.90000009536743, 8.178, 71.844, 811.12, 1.0], [28.901000022888184, 8.317, 71.844, 811.119, 1.0], [29.0, 8.389, 71.867, 810.987, 1.0], [29.00100016593933, 8.281, 71.867, 810.985, 1.0], [29.100000143051147, 8.275, 71.89, 810.853, 1.0], [29.1010000705719, 8.3, 71.891, 810.852, 1.0], [29.200000047683716, 8.175, 71.913, 810.721, 1.0], [29.300000190734863, 8.309, 71.937, 810.589, 1.0], [29.40000009536743, 8.065, 71.96, 810.457, 1.0], [29.5, 8.212, 71.983, 810.326, 1.0], [29.600000143051147, 8.024, 72.006, 810.195, 1.0], [29.700000047683716, 8.083, 72.029, 810.065, 1.0], [29.800000190734863, 8.211, 72.053, 809.936, 1.0], [29.90000009536743, 8.196, 72.076, 809.807, 1.0], [30.0, 8.177, 72.099, 809.679, 1.0], [30.100000143051147, 8.177, 72.123, 809.551, 1.0], [30.200000047683716, 8.173, 72.146, 809.423, 1.0], [30.300000190734863, 8.043, 72.169, 809.296, 1.0], [30.40000009536743, 8.216, 72.193, 809.17, 1.0], [30.5, 8.322, 72.216, 809.044, 1.0], [30.600000143051147, 8.031, 72.239, 808.919, 1.0], [30.700000047683716, 8.157, 72.263, 808.795, 1.0], [30.800000190734863, 8.298, 72.286, 808.67, 1.0], [30.90000009536743, 8.135, 72.31, 808.547, 1.0], [31.0, 8.135, 72.333, 808.424, 1.0], [31.100000143051147, 8.307, 72.357, 808.301, 1.0], [31.200000047683716, 8.239, 72.38, 808.179, 1.0], [31.300000190734863, 8.265, 72.404, 808.058, 1.0], [31.40000009536743, 8.283, 72.427, 807.937, 1.0], [31.5, 8.248, 72.451, 807.817, 1.0], [31.600000143051147, 8.189, 72.475, 807.697, 1.0], [31.700000047683716, 8.306, 72.498, 807.577, 1.0], [31.800000190734863, 8.16, 72.522, 807.459, 1.0], [31.90000009536743, 8.076, 72.545, 807.341, 1.0], [32.0, 8.076, 72.569, 807.223, 1.0], [32.10000014305115, 8.238, 72.593, 807.106, 1.0], [32.200000047683716, 8.119, 72.616, 806.989, 1.0], [32.30000019073486, 8.227, 72.64, 806.873, 1.0], [32.40000009536743, 8.001, 72.664, 806.758, 1.0], [32.5, 8.077, 72.688, 806.643, 1.0], [32.60000014305115, 8.135, 72.711, 806.528, 1.0], [32.700000047683716, 8.126, 72.735, 806.414, 1.0], [32.80000019073486, 8.045, 72.759, 806.301, 1.0], [32.90000009536743, 8.11, 72.783, 806.188, 1.0], [33.0, 7.975, 72.807, 806.076, 1.0], [33.10000014305115, 8.172, 72.831, 805.964, 1.0], [33.200000047683716, 8.221, 72.854, 805.853, 1.0], [33.30000019073486, 8.153, 72.878, 805.742, 1.0], [33.40000009536743, 8.129, 72.902, 805.632, 1.0], [33.5, 8.186, 72.926, 805.523, 1.0], [33.60000014305115, 8.16, 72.95, 805.414, 1.0], [33.700000047683716, 8.198, 72.974, 805.305, 1.0], [33.80000019073486, 8.042, 72.998, 805.197, 1.0], [33.90000009536743, 8.174, 73.022, 805.09, 1.0], [34.0, 8.085, 73.046, 804.983, 1.0], [34.10000014305115, 8.187, 73.07, 804.877, 1.0], [34.200000047683716, 8.115, 73.094, 804.771, 1.0], [34.30000019073486, 8.078, 73.118, 804.666, 1.0], [34.40000009536743, 8.134, 73.142, 804.561, 1.0], [34.5, 8.163, 73.167, 804.457, 1.0], [34.60000014305115, 7.948, 73.191, 804.353, 1.0], [34.700000047683716, 8.274, 73.215, 804.25, 1.0], [34.80000019073486, 8.235, 73.239, 804.148, 1.0], [34.90000009536743, 8.227, 73.263, 804.046, 1.0], [35.0, 8.248, 73.287, 803.944, 1.0], [35.10000014305115, 8.152, 73.312, 803.844, 1.0], [35.200000047683716, 8.096, 73.336, 803.743, 1.0], [35.30000019073486, 8.144, 73.36, 803.644, 1.0], [35.40000009536743, 8.032, 73.384, 803.544, 1.0], [35.5, 8.22, 73.409, 803.446, 1.0], [35.60000014305115, 8.174, 73.433, 803.348, 1.0]] data\n",
      "SCOUT B-1 R/B name\n",
      "0 variability\n"
     ]
    }
   ],
   "source": [
    "# iterate over records\n",
    "for r in range(len(table)):\n",
    "    for c in range(len(table.schema)):\n",
    "        print(table.column(c)[r], table.schema.field(c).name)\n",
    "    break"
   ]
  },
  {
   "cell_type": "code",
   "execution_count": 178,
   "metadata": {},
   "outputs": [
    {
     "data": {
      "text/plain": [
       "array([array([  0.   ,   9.136,  66.073, 870.767,   1.   ]),\n",
       "       array([1.00000143e-01, 9.04800000e+00, 6.60890000e+01, 8.70494000e+02,\n",
       "              1.00000000e+00])                                               ],\n",
       "      dtype=object)"
      ]
     },
     "execution_count": 178,
     "metadata": {},
     "output_type": "execute_result"
    }
   ],
   "source": [
    "sp[\"data\"][0].values[:2].to_numpy(zero_copy_only=False)"
   ]
  },
  {
   "cell_type": "code",
   "execution_count": 166,
   "metadata": {},
   "outputs": [
    {
     "data": {
      "text/plain": [
       "{'norad_id': [5438],\n",
       " 'id': [8152757],\n",
       " 'period': [0.0],\n",
       " 'timestamp': ['2015-07-25 21:55:14.998000'],\n",
       " 'data': [[[0.0, 9.136, 66.073, 870.767, 1.0],\n",
       "   [0.10000014305114746, 9.048, 66.089, 870.494, 1.0],\n",
       "   [0.20000004768371582, 9.383, 66.106, 870.221, 1.0],\n",
       "   [0.3000001907348633, 9.376, 66.123, 869.948, 1.0],\n",
       "   [0.40000009536743164, 8.842, 66.139, 869.676, 1.0],\n",
       "   [0.5, 9.117, 66.156, 869.404, 1.0],\n",
       "   [0.6000001430511475, 8.598, 66.173, 869.132, 1.0],\n",
       "   [0.7000000476837158, 8.715, 66.19, 868.861, 1.0],\n",
       "   [0.8000001907348633, 9.015, 66.207, 868.591, 1.0],\n",
       "   [0.9000000953674316, 8.592, 66.223, 868.321, 1.0],\n",
       "   [1.0, 8.692, 66.24, 868.051, 1.0],\n",
       "   [1.1000001430511475, 8.578, 66.257, 867.782, 1.0],\n",
       "   [1.3000001907348633, 8.857, 66.291, 867.245, 1.0],\n",
       "   [1.4000000953674316, 8.341, 66.308, 866.977, 1.0],\n",
       "   [1.5, 8.593, 66.325, 866.709, 1.0],\n",
       "   [1.6000001430511475, 8.565, 66.342, 866.442, 1.0],\n",
       "   [1.698000192642212, 8.907, 66.359, 866.181, 1.0],\n",
       "   [1.7000000476837158, 8.478, 66.359, 866.175, 1.0],\n",
       "   [1.7980000972747803, 8.943, 66.376, 865.915, 1.0],\n",
       "   [1.8000001907348633, 8.52, 66.376, 865.909, 1.0],\n",
       "   [1.8980000019073486, 8.755, 66.393, 865.649, 1.0],\n",
       "   [1.9000000953674316, 8.695, 66.393, 865.643, 1.0],\n",
       "   [1.998000144958496, 8.585, 66.41, 865.383, 1.0],\n",
       "   [2.0, 8.644, 66.41, 865.378, 1.0],\n",
       "   [2.0980000495910645, 8.99, 66.427, 865.119, 1.0],\n",
       "   [2.1000001430511475, 8.526, 66.428, 865.113, 1.0],\n",
       "   [2.198000192642212, 8.749, 66.444, 864.854, 1.0],\n",
       "   [2.200000047683716, 8.478, 66.445, 864.849, 1.0],\n",
       "   [2.2980000972747803, 8.723, 66.462, 864.59, 1.0],\n",
       "   [2.3000001907348633, 8.545, 66.462, 864.585, 1.0],\n",
       "   [2.3980000019073486, 8.729, 66.479, 864.326, 1.0],\n",
       "   [2.4000000953674316, 8.387, 66.479, 864.321, 1.0],\n",
       "   [2.498000144958496, 8.495, 66.496, 864.063, 1.0],\n",
       "   [2.5, 8.665, 66.496, 864.058, 1.0],\n",
       "   [2.5980000495910645, 8.68, 66.513, 863.801, 1.0],\n",
       "   [2.6000001430511475, 8.616, 66.514, 863.795, 1.0],\n",
       "   [2.698000192642212, 8.583, 66.531, 863.538, 1.0],\n",
       "   [2.700000047683716, 8.559, 66.531, 863.533, 1.0],\n",
       "   [2.7980000972747803, 8.828, 66.548, 863.276, 1.0],\n",
       "   [2.8000001907348633, 8.261, 66.548, 863.271, 1.0],\n",
       "   [2.8980000019073486, 8.676, 66.565, 863.015, 1.0],\n",
       "   [2.9000000953674316, 8.495, 66.566, 863.01, 1.0],\n",
       "   [2.998000144958496, 8.512, 66.583, 862.754, 1.0],\n",
       "   [3.0, 8.495, 66.583, 862.749, 1.0],\n",
       "   [3.0980000495910645, 8.6, 66.6, 862.494, 1.0],\n",
       "   [3.1000001430511475, 8.444, 66.6, 862.488, 1.0],\n",
       "   [3.198000192642212, 8.708, 66.617, 862.233, 1.0],\n",
       "   [3.200000047683716, 8.384, 66.618, 862.228, 1.0],\n",
       "   [3.2980000972747803, 8.665, 66.635, 861.974, 1.0],\n",
       "   [3.3000001907348633, 8.474, 66.635, 861.969, 1.0],\n",
       "   [3.3980000019073486, 8.751, 66.652, 861.715, 1.0],\n",
       "   [3.4000000953674316, 8.488, 66.653, 861.709, 1.0],\n",
       "   [3.498000144958496, 8.659, 66.67, 861.456, 1.0],\n",
       "   [3.5, 8.466, 66.67, 861.451, 1.0],\n",
       "   [3.5980000495910645, 8.643, 66.687, 861.198, 1.0],\n",
       "   [3.6000001430511475, 8.512, 66.688, 861.192, 1.0],\n",
       "   [3.698000192642212, 8.456, 66.705, 860.94, 1.0],\n",
       "   [3.700000047683716, 8.353, 66.705, 860.935, 1.0],\n",
       "   [3.7980000972747803, 8.458, 66.722, 860.682, 1.0],\n",
       "   [3.8000001907348633, 8.334, 66.723, 860.677, 1.0],\n",
       "   [3.8980000019073486, 8.581, 66.74, 860.425, 1.0],\n",
       "   [3.9000000953674316, 8.493, 66.74, 860.42, 1.0],\n",
       "   [3.998000144958496, 8.687, 66.757, 860.169, 1.0],\n",
       "   [4.0, 8.288, 66.758, 860.164, 1.0],\n",
       "   [4.0980000495910645, 8.53, 66.775, 859.913, 1.0],\n",
       "   [4.1000001430511475, 8.346, 66.775, 859.908, 1.0],\n",
       "   [4.198000192642212, 8.494, 66.793, 859.657, 1.0],\n",
       "   [4.200000047683716, 8.477, 66.793, 859.652, 1.0],\n",
       "   [4.29800009727478, 8.457, 66.81, 859.402, 1.0],\n",
       "   [4.300000190734863, 8.371, 66.811, 859.397, 1.0],\n",
       "   [4.398000001907349, 8.501, 66.828, 859.147, 1.0],\n",
       "   [4.400000095367432, 8.263, 66.828, 859.142, 1.0],\n",
       "   [4.498000144958496, 8.568, 66.846, 858.893, 1.0],\n",
       "   [4.5, 8.479, 66.846, 858.888, 1.0],\n",
       "   [4.5980000495910645, 8.545, 66.863, 858.639, 1.0],\n",
       "   [4.6000001430511475, 8.332, 66.864, 858.634, 1.0],\n",
       "   [4.698000192642212, 8.487, 66.881, 858.386, 1.0],\n",
       "   [4.700000047683716, 8.316, 66.882, 858.381, 1.0],\n",
       "   [4.79800009727478, 8.686, 66.899, 858.133, 1.0],\n",
       "   [4.800000190734863, 8.272, 66.899, 858.128, 1.0],\n",
       "   [4.898000001907349, 8.427, 66.917, 857.88, 1.0],\n",
       "   [4.900000095367432, 8.237, 66.917, 857.875, 1.0],\n",
       "   [4.998000144958496, 8.527, 66.935, 857.628, 1.0],\n",
       "   [5.0, 8.352, 66.935, 857.623, 1.0],\n",
       "   [5.0980000495910645, 8.553, 66.952, 857.376, 1.0],\n",
       "   [5.1000001430511475, 8.466, 66.953, 857.371, 1.0],\n",
       "   [5.198000192642212, 8.687, 66.97, 857.125, 1.0],\n",
       "   [5.200000047683716, 8.232, 66.971, 857.12, 1.0],\n",
       "   [5.29800009727478, 8.609, 66.988, 856.875, 1.0],\n",
       "   [5.300000190734863, 8.422, 66.989, 856.87, 1.0],\n",
       "   [5.398000001907349, 8.487, 67.006, 856.624, 1.0],\n",
       "   [5.400000095367432, 8.295, 67.006, 856.619, 1.0],\n",
       "   [5.498000144958496, 8.583, 67.024, 856.375, 1.0],\n",
       "   [5.5, 8.329, 67.024, 856.37, 1.0],\n",
       "   [5.5980000495910645, 8.321, 67.042, 856.125, 1.0],\n",
       "   [5.6000001430511475, 8.378, 67.042, 856.12, 1.0],\n",
       "   [5.698000192642212, 8.539, 67.06, 855.876, 1.0],\n",
       "   [5.700000047683716, 8.204, 67.06, 855.871, 1.0],\n",
       "   [5.79800009727478, 8.398, 67.078, 855.628, 1.0],\n",
       "   [5.800000190734863, 8.324, 67.078, 855.623, 1.0],\n",
       "   [5.898000001907349, 8.545, 67.096, 855.38, 1.0],\n",
       "   [5.900000095367432, 8.393, 67.096, 855.375, 1.0],\n",
       "   [5.998000144958496, 8.35, 67.114, 855.132, 1.0],\n",
       "   [6.0, 8.339, 67.114, 855.127, 1.0],\n",
       "   [6.0980000495910645, 8.339, 67.132, 854.885, 1.0],\n",
       "   [6.1000001430511475, 8.229, 67.132, 854.88, 1.0],\n",
       "   [6.198000192642212, 8.541, 67.15, 854.639, 1.0],\n",
       "   [6.200000047683716, 8.363, 67.151, 854.634, 1.0],\n",
       "   [6.29800009727478, 8.448, 67.168, 854.392, 1.0],\n",
       "   [6.300000190734863, 8.218, 67.169, 854.387, 1.0],\n",
       "   [6.398000001907349, 8.543, 67.186, 854.147, 1.0],\n",
       "   [6.400000095367432, 8.306, 67.187, 854.142, 1.0],\n",
       "   [6.498000144958496, 8.473, 67.205, 853.901, 1.0],\n",
       "   [6.5, 8.149, 67.205, 853.896, 1.0],\n",
       "   [6.5980000495910645, 8.453, 67.223, 853.656, 1.0],\n",
       "   [6.6000001430511475, 8.223, 67.223, 853.652, 1.0],\n",
       "   [6.698000192642212, 8.469, 67.241, 853.412, 1.0],\n",
       "   [6.700000047683716, 8.07, 67.241, 853.407, 1.0],\n",
       "   [6.79800009727478, 8.293, 67.259, 853.168, 1.0],\n",
       "   [6.800000190734863, 8.263, 67.26, 853.163, 1.0],\n",
       "   [6.898000001907349, 8.394, 67.278, 852.925, 1.0],\n",
       "   [6.900000095367432, 8.238, 67.278, 852.92, 1.0],\n",
       "   [6.998000144958496, 8.521, 67.296, 852.682, 1.0],\n",
       "   [7.0, 8.093, 67.296, 852.677, 1.0],\n",
       "   [7.0980000495910645, 8.43, 67.314, 852.439, 1.0],\n",
       "   [7.1000001430511475, 8.189, 67.315, 852.434, 1.0],\n",
       "   [7.198000192642212, 8.448, 67.332, 852.197, 1.0],\n",
       "   [7.200000047683716, 8.398, 67.333, 852.192, 1.0],\n",
       "   [7.29800009727478, 8.431, 67.351, 851.955, 1.0],\n",
       "   [7.300000190734863, 8.246, 67.351, 851.951, 1.0],\n",
       "   [7.398000001907349, 8.575, 67.369, 851.714, 1.0],\n",
       "   [7.400000095367432, 8.201, 67.37, 851.709, 1.0],\n",
       "   [7.498000144958496, 8.365, 67.388, 851.474, 1.0],\n",
       "   [7.5, 8.168, 67.388, 851.469, 1.0],\n",
       "   [7.5980000495910645, 8.318, 67.406, 851.233, 1.0],\n",
       "   [7.6000001430511475, 8.372, 67.406, 851.229, 1.0],\n",
       "   [7.698000192642212, 8.391, 67.425, 850.994, 1.0],\n",
       "   [7.700000047683716, 8.259, 67.425, 850.989, 1.0],\n",
       "   [7.79800009727478, 8.455, 67.443, 850.754, 1.0],\n",
       "   [7.800000190734863, 8.214, 67.443, 850.749, 1.0],\n",
       "   [7.898000001907349, 8.502, 67.461, 850.515, 1.0],\n",
       "   [7.900000095367432, 8.196, 67.462, 850.511, 1.0],\n",
       "   [7.998000144958496, 8.33, 67.48, 850.277, 1.0],\n",
       "   [8.0, 7.971, 67.48, 850.272, 1.0],\n",
       "   [8.098000049591064, 8.389, 67.499, 850.039, 1.0],\n",
       "   [8.100000143051147, 8.437, 67.499, 850.034, 1.0],\n",
       "   [8.198000192642212, 7.991, 67.517, 849.801, 1.0],\n",
       "   [8.200000047683716, 8.182, 67.517, 849.797, 1.0],\n",
       "   [8.29800009727478, 8.338, 67.536, 849.564, 1.0],\n",
       "   [8.300000190734863, 8.253, 67.536, 849.56, 1.0],\n",
       "   [8.398000001907349, 8.296, 67.554, 849.328, 1.0],\n",
       "   [8.400000095367432, 8.176, 67.555, 849.323, 1.0],\n",
       "   [8.498000144958496, 8.486, 67.573, 849.092, 1.0],\n",
       "   [8.5, 8.133, 67.573, 849.087, 1.0],\n",
       "   [8.598000049591064, 8.375, 67.592, 848.856, 1.0],\n",
       "   [8.600000143051147, 8.188, 67.592, 848.851, 1.0],\n",
       "   [8.698000192642212, 8.299, 67.61, 848.621, 1.0],\n",
       "   [8.700000047683716, 8.155, 67.611, 848.616, 1.0],\n",
       "   [8.79800009727478, 8.274, 67.629, 848.386, 1.0],\n",
       "   [8.800000190734863, 8.194, 67.629, 848.382, 1.0],\n",
       "   [8.898000001907349, 8.358, 67.648, 848.152, 1.0],\n",
       "   [8.900000095367432, 8.151, 67.648, 848.147, 1.0],\n",
       "   [8.998000144958496, 8.14, 67.666, 847.918, 1.0],\n",
       "   [9.0, 8.148, 67.667, 847.913, 1.0],\n",
       "   [9.098000049591064, 8.416, 67.685, 847.685, 1.0],\n",
       "   [9.100000143051147, 8.085, 67.686, 847.68, 1.0],\n",
       "   [9.198000192642212, 8.4, 67.704, 847.452, 1.0],\n",
       "   [9.200000047683716, 8.262, 67.704, 847.447, 1.0],\n",
       "   [9.29800009727478, 8.273, 67.723, 847.22, 1.0],\n",
       "   [9.300000190734863, 8.044, 67.723, 847.215, 1.0],\n",
       "   [9.398000001907349, 8.242, 67.742, 846.988, 1.0],\n",
       "   [9.400000095367432, 8.235, 67.742, 846.983, 1.0],\n",
       "   [9.498000144958496, 8.356, 67.761, 846.756, 1.0],\n",
       "   [9.5, 8.354, 67.761, 846.752, 1.0],\n",
       "   [9.598000049591064, 8.312, 67.779, 846.525, 1.0],\n",
       "   [9.600000143051147, 8.235, 67.78, 846.521, 1.0],\n",
       "   [9.698000192642212, 8.38, 67.798, 846.295, 1.0],\n",
       "   [9.700000047683716, 8.133, 67.799, 846.29, 1.0],\n",
       "   [9.79800009727478, 8.292, 67.817, 846.065, 1.0],\n",
       "   [9.800000190734863, 8.22, 67.818, 846.06, 1.0],\n",
       "   [9.898000001907349, 8.114, 67.836, 845.835, 1.0],\n",
       "   [9.900000095367432, 8.263, 67.837, 845.83, 1.0],\n",
       "   [9.998000144958496, 8.304, 67.855, 845.606, 1.0],\n",
       "   [10.0, 8.181, 67.856, 845.601, 1.0],\n",
       "   [10.098000049591064, 8.164, 67.874, 845.377, 1.0],\n",
       "   [10.100000143051147, 8.216, 67.875, 845.373, 1.0],\n",
       "   [10.198000192642212, 8.146, 67.893, 845.149, 1.0],\n",
       "   [10.200000047683716, 8.145, 67.894, 845.144, 1.0],\n",
       "   [10.29800009727478, 8.243, 67.912, 844.921, 1.0],\n",
       "   [10.300000190734863, 8.102, 67.913, 844.917, 1.0],\n",
       "   [10.398000001907349, 8.365, 67.931, 844.694, 1.0],\n",
       "   [10.400000095367432, 8.191, 67.932, 844.69, 1.0],\n",
       "   [10.498000144958496, 8.263, 67.951, 844.467, 1.0],\n",
       "   [10.5, 8.251, 67.951, 844.463, 1.0],\n",
       "   [10.598000049591064, 8.173, 67.97, 844.241, 1.0],\n",
       "   [10.600000143051147, 8.166, 67.97, 844.236, 1.0],\n",
       "   [10.698000192642212, 8.178, 67.989, 844.015, 1.0],\n",
       "   [10.700000047683716, 8.05, 67.989, 844.011, 1.0],\n",
       "   [10.79800009727478, 8.184, 68.008, 843.79, 1.0],\n",
       "   [10.800000190734863, 8.084, 68.008, 843.785, 1.0],\n",
       "   [10.898000001907349, 8.281, 68.027, 843.565, 1.0],\n",
       "   [10.900000095367432, 8.278, 68.028, 843.56, 1.0],\n",
       "   [10.998000144958496, 8.323, 68.046, 843.34, 1.0],\n",
       "   [11.0, 8.189, 68.047, 843.336, 1.0],\n",
       "   [11.098000049591064, 8.207, 68.066, 843.117, 1.0],\n",
       "   [11.100000143051147, 8.179, 68.066, 843.112, 1.0],\n",
       "   [11.198000192642212, 8.087, 68.085, 842.893, 1.0],\n",
       "   [11.200000047683716, 8.121, 68.085, 842.889, 1.0],\n",
       "   [11.29800009727478, 8.21, 68.104, 842.67, 1.0],\n",
       "   [11.300000190734863, 8.202, 68.105, 842.666, 1.0],\n",
       "   [11.398000001907349, 8.176, 68.123, 842.448, 1.0],\n",
       "   [11.400000095367432, 8.192, 68.124, 842.443, 1.0],\n",
       "   [11.498000144958496, 8.074, 68.143, 842.225, 1.0],\n",
       "   [11.5, 8.24, 68.143, 842.221, 1.0],\n",
       "   [11.598000049591064, 8.216, 68.162, 842.004, 1.0],\n",
       "   [11.600000143051147, 8.066, 68.163, 841.999, 1.0],\n",
       "   [11.698000192642212, 8.196, 68.182, 841.783, 1.0],\n",
       "   [11.700000047683716, 7.977, 68.182, 841.778, 1.0],\n",
       "   [11.79800009727478, 8.295, 68.201, 841.562, 1.0],\n",
       "   [11.800000190734863, 8.161, 68.201, 841.558, 1.0],\n",
       "   [11.898000001907349, 8.227, 68.22, 841.342, 1.0],\n",
       "   [11.900000095367432, 8.196, 68.221, 841.338, 1.0],\n",
       "   [11.998000144958496, 8.136, 68.24, 841.122, 1.0],\n",
       "   [12.0, 8.17, 68.24, 841.118, 1.0],\n",
       "   [12.098000049591064, 8.22, 68.259, 840.903, 1.0],\n",
       "   [12.100000143051147, 8.111, 68.26, 840.899, 1.0],\n",
       "   [12.198000192642212, 8.067, 68.279, 840.684, 1.0],\n",
       "   [12.200000047683716, 8.215, 68.279, 840.68, 1.0],\n",
       "   [12.29800009727478, 8.137, 68.298, 840.466, 1.0],\n",
       "   [12.300000190734863, 8.112, 68.299, 840.462, 1.0],\n",
       "   [12.398000001907349, 8.099, 68.318, 840.248, 1.0],\n",
       "   [12.400000095367432, 8.209, 68.318, 840.244, 1.0],\n",
       "   [12.498000144958496, 8.367, 68.337, 840.031, 1.0],\n",
       "   [12.5, 8.236, 68.338, 840.027, 1.0],\n",
       "   [12.598000049591064, 8.1, 68.357, 839.814, 1.0],\n",
       "   [12.600000143051147, 8.203, 68.357, 839.81, 1.0],\n",
       "   [12.698000192642212, 8.057, 68.377, 839.598, 1.0],\n",
       "   [12.700000047683716, 8.13, 68.377, 839.594, 1.0],\n",
       "   [12.79800009727478, 8.055, 68.396, 839.382, 1.0],\n",
       "   [12.800000190734863, 8.168, 68.397, 839.378, 1.0],\n",
       "   [12.898000001907349, 8.151, 68.416, 839.167, 1.0],\n",
       "   [12.900000095367432, 8.124, 68.416, 839.162, 1.0],\n",
       "   [12.998000144958496, 8.157, 68.436, 838.952, 1.0],\n",
       "   [13.0, 8.151, 68.436, 838.948, 1.0],\n",
       "   [13.098000049591064, 8.202, 68.455, 838.737, 1.0],\n",
       "   [13.100000143051147, 8.121, 68.456, 838.733, 1.0],\n",
       "   [13.198000192642212, 8.237, 68.475, 838.523, 1.0],\n",
       "   [13.200000047683716, 8.128, 68.475, 838.519, 1.0],\n",
       "   [13.29800009727478, 8.099, 68.495, 838.31, 1.0],\n",
       "   [13.300000190734863, 8.164, 68.495, 838.306, 1.0],\n",
       "   [13.400000095367432, 8.18, 68.515, 838.093, 1.0],\n",
       "   [13.5, 8.154, 68.535, 837.88, 1.0],\n",
       "   [13.600000143051147, 8.158, 68.554, 837.668, 1.0],\n",
       "   [13.700000047683716, 8.198, 68.574, 837.457, 1.0],\n",
       "   [13.800000190734863, 8.163, 68.594, 837.246, 1.0],\n",
       "   [13.900000095367432, 8.119, 68.614, 837.035, 1.0],\n",
       "   [14.0, 8.105, 68.634, 836.825, 1.0],\n",
       "   [14.100000143051147, 8.091, 68.654, 836.616, 1.0],\n",
       "   [14.200000047683716, 8.117, 68.674, 836.406, 1.0],\n",
       "   [14.300000190734863, 8.096, 68.694, 836.198, 1.0],\n",
       "   [14.400000095367432, 8.051, 68.714, 835.99, 1.0],\n",
       "   [14.5, 8.104, 68.734, 835.782, 1.0],\n",
       "   [14.600000143051147, 8.386, 68.754, 835.575, 1.0],\n",
       "   [14.700000047683716, 8.169, 68.774, 835.368, 1.0],\n",
       "   [14.800000190734863, 8.146, 68.794, 835.162, 1.0],\n",
       "   [14.900000095367432, 8.179, 68.814, 834.956, 1.0],\n",
       "   [15.0, 8.19, 68.834, 834.751, 1.0],\n",
       "   [15.100000143051147, 8.151, 68.854, 834.546, 1.0],\n",
       "   [15.200000047683716, 8.203, 68.875, 834.342, 1.0],\n",
       "   [15.300000190734863, 8.154, 68.895, 834.138, 1.0],\n",
       "   [15.400000095367432, 8.29, 68.915, 833.935, 1.0],\n",
       "   [15.5, 8.084, 68.935, 833.732, 1.0],\n",
       "   [15.600000143051147, 8.217, 68.955, 833.53, 1.0],\n",
       "   [15.700000047683716, 8.251, 68.976, 833.328, 1.0],\n",
       "   [15.800000190734863, 8.162, 68.996, 833.127, 1.0],\n",
       "   [15.900000095367432, 8.161, 69.016, 832.926, 1.0],\n",
       "   [16.0, 8.125, 69.037, 832.726, 1.0],\n",
       "   [16.100000143051147, 8.155, 69.057, 832.526, 1.0],\n",
       "   [16.200000047683716, 8.129, 69.078, 832.327, 1.0],\n",
       "   [16.300000190734863, 8.171, 69.098, 832.128, 1.0],\n",
       "   [16.40000009536743, 8.157, 69.118, 831.929, 1.0],\n",
       "   [16.5, 8.229, 69.139, 831.731, 1.0],\n",
       "   [16.600000143051147, 8.196, 69.159, 831.534, 1.0],\n",
       "   [16.700000047683716, 8.11, 69.18, 831.337, 1.0],\n",
       "   [16.800000190734863, 8.123, 69.2, 831.141, 1.0],\n",
       "   [16.90000009536743, 8.142, 69.221, 830.945, 1.0],\n",
       "   [17.0, 8.187, 69.242, 830.749, 1.0],\n",
       "   [17.100000143051147, 8.182, 69.262, 830.555, 1.0],\n",
       "   [17.200000047683716, 8.285, 69.283, 830.36, 1.0],\n",
       "   [17.300000190734863, 8.195, 69.303, 830.166, 1.0],\n",
       "   [17.40000009536743, 8.398, 69.324, 829.973, 1.0],\n",
       "   [17.5, 8.151, 69.345, 829.78, 1.0],\n",
       "   [17.600000143051147, 8.074, 69.366, 829.587, 1.0],\n",
       "   [17.700000047683716, 8.204, 69.386, 829.396, 1.0],\n",
       "   [17.800000190734863, 8.223, 69.407, 829.204, 1.0],\n",
       "   [17.90000009536743, 8.085, 69.428, 829.013, 1.0],\n",
       "   [18.0, 8.139, 69.449, 828.823, 1.0],\n",
       "   [18.100000143051147, 8.05, 69.469, 828.633, 1.0],\n",
       "   [18.200000047683716, 8.027, 69.49, 828.443, 1.0],\n",
       "   [18.300000190734863, 8.23, 69.511, 828.254, 1.0],\n",
       "   [18.40000009536743, 8.236, 69.532, 828.066, 1.0],\n",
       "   [18.5, 8.133, 69.553, 827.878, 1.0],\n",
       "   [18.600000143051147, 8.076, 69.574, 827.69, 1.0],\n",
       "   [18.700000047683716, 8.289, 69.595, 827.504, 1.0],\n",
       "   [18.800000190734863, 8.21, 69.616, 827.317, 1.0],\n",
       "   [18.90000009536743, 8.25, 69.637, 827.131, 1.0],\n",
       "   [19.0, 8.147, 69.658, 826.946, 1.0],\n",
       "   [19.100000143051147, 8.076, 69.679, 826.761, 1.0],\n",
       "   [19.200000047683716, 8.205, 69.7, 826.576, 1.0],\n",
       "   [19.300000190734863, 8.144, 69.721, 826.392, 1.0],\n",
       "   [19.40000009536743, 8.138, 69.742, 826.209, 1.0],\n",
       "   [19.5, 8.164, 69.763, 826.026, 1.0],\n",
       "   [19.600000143051147, 8.191, 69.784, 825.844, 1.0],\n",
       "   [19.700000047683716, 8.274, 69.806, 825.662, 1.0],\n",
       "   [19.800000190734863, 8.1, 69.827, 825.48, 1.0],\n",
       "   [19.90000009536743, 8.18, 69.848, 825.299, 1.0],\n",
       "   [20.0, 8.188, 69.869, 825.119, 1.0],\n",
       "   [20.100000143051147, 8.114, 69.891, 824.939, 1.0],\n",
       "   [20.40000009536743, 8.361, 69.954, 824.402, 1.0],\n",
       "   [20.5, 8.284, 69.976, 824.224, 1.0],\n",
       "   [20.600000143051147, 8.202, 69.997, 824.047, 1.0],\n",
       "   [20.700000047683716, 8.289, 70.019, 823.87, 1.0],\n",
       "   [20.800000190734863, 8.291, 70.04, 823.694, 1.0],\n",
       "   [20.801000118255615, 8.139, 70.04, 823.692, 1.0],\n",
       "   [20.90000009536743, 7.993, 70.061, 823.518, 1.0],\n",
       "   [20.901000022888184, 8.002, 70.062, 823.516, 1.0],\n",
       "   [21.0, 8.257, 70.083, 823.342, 1.0],\n",
       "   [21.00100016593933, 8.043, 70.083, 823.341, 1.0],\n",
       "   [21.100000143051147, 8.17, 70.104, 823.168, 1.0],\n",
       "   [21.1010000705719, 8.129, 70.105, 823.166, 1.0],\n",
       "   [21.200000047683716, 8.252, 70.126, 822.993, 1.0],\n",
       "   [21.200999975204468, 8.185, 70.126, 822.992, 1.0],\n",
       "   [21.300000190734863, 8.138, 70.147, 822.819, 1.0],\n",
       "   [21.301000118255615, 8.165, 70.148, 822.818, 1.0],\n",
       "   [21.40000009536743, 8.168, 70.169, 822.646, 1.0],\n",
       "   [21.401000022888184, 8.248, 70.169, 822.644, 1.0],\n",
       "   [21.5, 8.126, 70.19, 822.473, 1.0],\n",
       "   [21.50100016593933, 8.243, 70.191, 822.472, 1.0],\n",
       "   [21.600000143051147, 8.276, 70.212, 822.301, 1.0],\n",
       "   [21.6010000705719, 8.15, 70.212, 822.299, 1.0],\n",
       "   [21.700000047683716, 8.362, 70.234, 822.129, 1.0],\n",
       "   [21.700999975204468, 8.141, 70.234, 822.127, 1.0],\n",
       "   [21.800000190734863, 8.213, 70.255, 821.958, 1.0],\n",
       "   [21.801000118255615, 8.129, 70.256, 821.956, 1.0],\n",
       "   [21.90000009536743, 8.156, 70.277, 821.787, 1.0],\n",
       "   [21.901000022888184, 8.186, 70.277, 821.785, 1.0],\n",
       "   [22.0, 8.098, 70.299, 821.617, 1.0],\n",
       "   [22.00100016593933, 8.132, 70.299, 821.615, 1.0],\n",
       "   [22.100000143051147, 8.132, 70.32, 821.447, 1.0],\n",
       "   [22.1010000705719, 8.261, 70.321, 821.445, 1.0],\n",
       "   [22.200000047683716, 8.318, 70.342, 821.278, 1.0],\n",
       "   [22.200999975204468, 8.121, 70.342, 821.276, 1.0],\n",
       "   [22.300000190734863, 8.243, 70.364, 821.109, 1.0],\n",
       "   [22.301000118255615, 8.059, 70.364, 821.107, 1.0],\n",
       "   [22.40000009536743, 8.222, 70.386, 820.941, 1.0],\n",
       "   [22.401000022888184, 8.087, 70.386, 820.939, 1.0],\n",
       "   [22.5, 8.245, 70.407, 820.773, 1.0],\n",
       "   [22.50100016593933, 8.218, 70.408, 820.772, 1.0],\n",
       "   [22.600000143051147, 8.263, 70.429, 820.606, 1.0],\n",
       "   [22.6010000705719, 8.108, 70.429, 820.604, 1.0],\n",
       "   [22.700000047683716, 8.18, 70.451, 820.439, 1.0],\n",
       "   [22.700999975204468, 8.028, 70.451, 820.438, 1.0],\n",
       "   [22.800000190734863, 8.209, 70.473, 820.273, 1.0],\n",
       "   [22.801000118255615, 8.104, 70.473, 820.272, 1.0],\n",
       "   [22.90000009536743, 8.216, 70.495, 820.108, 1.0],\n",
       "   [22.901000022888184, 8.161, 70.495, 820.106, 1.0],\n",
       "   [23.0, 8.138, 70.517, 819.942, 1.0],\n",
       "   [23.00100016593933, 8.09, 70.517, 819.941, 1.0],\n",
       "   [23.100000143051147, 8.232, 70.538, 819.778, 1.0],\n",
       "   [23.1010000705719, 8.288, 70.539, 819.776, 1.0],\n",
       "   [23.200000047683716, 8.372, 70.56, 819.614, 1.0],\n",
       "   [23.200999975204468, 8.12, 70.561, 819.612, 1.0],\n",
       "   [23.300000190734863, 8.226, 70.582, 819.45, 1.0],\n",
       "   [23.301000118255615, 8.203, 70.583, 819.448, 1.0],\n",
       "   [23.40000009536743, 8.22, 70.604, 819.287, 1.0],\n",
       "   [23.401000022888184, 8.168, 70.604, 819.285, 1.0],\n",
       "   [23.5, 8.179, 70.626, 819.124, 1.0],\n",
       "   [23.50100016593933, 8.184, 70.626, 819.123, 1.0],\n",
       "   [23.600000143051147, 8.227, 70.648, 818.962, 1.0],\n",
       "   [23.6010000705719, 8.143, 70.648, 818.961, 1.0],\n",
       "   [23.700000047683716, 8.208, 70.67, 818.801, 1.0],\n",
       "   [23.700999975204468, 8.236, 70.671, 818.799, 1.0],\n",
       "   [23.800000190734863, 8.342, 70.692, 818.64, 1.0],\n",
       "   [23.801000118255615, 8.133, 70.693, 818.638, 1.0],\n",
       "   [23.90000009536743, 8.162, 70.714, 818.479, 1.0],\n",
       "   [23.901000022888184, 8.141, 70.715, 818.478, 1.0],\n",
       "   [24.0, 8.387, 70.737, 818.319, 1.0],\n",
       "   [24.00100016593933, 8.139, 70.737, 818.318, 1.0],\n",
       "   [24.100000143051147, 8.331, 70.759, 818.16, 1.0],\n",
       "   [24.1010000705719, 8.123, 70.759, 818.158, 1.0],\n",
       "   [24.200000047683716, 8.251, 70.781, 818.001, 1.0],\n",
       "   [24.200999975204468, 8.064, 70.781, 817.999, 1.0],\n",
       "   [24.300000190734863, 8.225, 70.803, 817.843, 1.0],\n",
       "   [24.301000118255615, 8.107, 70.803, 817.841, 1.0],\n",
       "   [24.40000009536743, 8.171, 70.825, 817.685, 1.0],\n",
       "   [24.401000022888184, 8.086, 70.825, 817.683, 1.0],\n",
       "   [24.5, 8.269, 70.847, 817.527, 1.0],\n",
       "   [24.50100016593933, 8.06, 70.848, 817.526, 1.0],\n",
       "   [24.600000143051147, 8.279, 70.87, 817.37, 1.0],\n",
       "   [24.6010000705719, 8.054, 70.87, 817.369, 1.0],\n",
       "   [24.700000047683716, 8.286, 70.892, 817.214, 1.0],\n",
       "   [24.700999975204468, 8.117, 70.892, 817.213, 1.0],\n",
       "   [24.800000190734863, 8.114, 70.914, 817.058, 1.0],\n",
       "   [24.801000118255615, 8.261, 70.914, 817.057, 1.0],\n",
       "   [24.90000009536743, 8.322, 70.936, 816.903, 1.0],\n",
       "   [24.901000022888184, 8.197, 70.937, 816.901, 1.0],\n",
       "   [25.0, 8.203, 70.959, 816.748, 1.0],\n",
       "   [25.00100016593933, 8.159, 70.959, 816.747, 1.0],\n",
       "   [25.100000143051147, 8.146, 70.981, 816.594, 1.0],\n",
       "   [25.1010000705719, 8.316, 70.981, 816.592, 1.0],\n",
       "   [25.200000047683716, 8.227, 71.003, 816.44, 1.0],\n",
       "   [25.200999975204468, 8.272, 71.003, 816.439, 1.0],\n",
       "   [25.300000190734863, 8.099, 71.026, 816.287, 1.0],\n",
       "   [25.301000118255615, 8.195, 71.026, 816.285, 1.0],\n",
       "   [25.40000009536743, 8.275, 71.048, 816.134, 1.0],\n",
       "   [25.401000022888184, 8.182, 71.048, 816.133, 1.0],\n",
       "   [25.5, 8.202, 71.07, 815.982, 1.0],\n",
       "   [25.50100016593933, 8.143, 71.071, 815.981, 1.0],\n",
       "   [25.600000143051147, 8.279, 71.093, 815.83, 1.0],\n",
       "   [25.6010000705719, 8.214, 71.093, 815.829, 1.0],\n",
       "   [25.700000047683716, 8.249, 71.115, 815.679, 1.0],\n",
       "   [25.700999975204468, 8.008, 71.116, 815.678, 1.0],\n",
       "   [25.800000190734863, 8.164, 71.138, 815.529, 1.0],\n",
       "   [25.801000118255615, 8.217, 71.138, 815.527, 1.0],\n",
       "   [25.90000009536743, 8.22, 71.16, 815.379, 1.0],\n",
       "   [25.901000022888184, 8.076, 71.16, 815.377, 1.0],\n",
       "   [26.0, 8.304, 71.183, 815.229, 1.0],\n",
       "   [26.00100016593933, 8.202, 71.183, 815.227, 1.0],\n",
       "   [26.100000143051147, 8.193, 71.205, 815.08, 1.0],\n",
       "   [26.1010000705719, 8.047, 71.205, 815.078, 1.0],\n",
       "   [26.200000047683716, 8.218, 71.228, 814.931, 1.0],\n",
       "   [26.200999975204468, 8.154, 71.228, 814.93, 1.0],\n",
       "   [26.300000190734863, 8.352, 71.25, 814.783, 1.0],\n",
       "   [26.301000118255615, 8.154, 71.251, 814.782, 1.0],\n",
       "   [26.40000009536743, 8.24, 71.273, 814.636, 1.0],\n",
       "   [26.401000022888184, 8.073, 71.273, 814.634, 1.0],\n",
       "   [26.5, 8.216, 71.296, 814.489, 1.0],\n",
       "   [26.50100016593933, 8.18, 71.296, 814.488, 1.0],\n",
       "   [26.600000143051147, 8.148, 71.318, 814.343, 1.0],\n",
       "   [26.6010000705719, 8.103, 71.318, 814.341, 1.0],\n",
       "   [26.700000047683716, 8.223, 71.341, 814.197, 1.0],\n",
       "   [26.700999975204468, 8.117, 71.341, 814.195, 1.0],\n",
       "   [26.800000190734863, 8.278, 71.364, 814.051, 1.0],\n",
       "   [26.801000118255615, 8.137, 71.364, 814.05, 1.0],\n",
       "   [26.90000009536743, 8.364, 71.386, 813.906, 1.0],\n",
       "   [26.901000022888184, 8.056, 71.386, 813.905, 1.0],\n",
       "   [27.0, 8.227, 71.409, 813.762, 1.0],\n",
       "   [27.00100016593933, 8.254, 71.409, 813.761, 1.0],\n",
       "   [27.100000143051147, 8.402, 71.432, 813.618, 1.0],\n",
       "   [27.1010000705719, 8.13, 71.432, 813.617, 1.0],\n",
       "   [27.200000047683716, 8.348, 71.454, 813.475, 1.0],\n",
       "   [27.200999975204468, 8.067, 71.455, 813.474, 1.0],\n",
       "   [27.300000190734863, 8.158, 71.477, 813.332, 1.0],\n",
       "   [27.301000118255615, 8.136, 71.477, 813.331, 1.0],\n",
       "   [27.40000009536743, 8.222, 71.5, 813.19, 1.0],\n",
       "   [27.401000022888184, 8.152, 71.5, 813.189, 1.0],\n",
       "   [27.5, 8.216, 71.523, 813.048, 1.0],\n",
       "   [27.50100016593933, 8.197, 71.523, 813.047, 1.0],\n",
       "   [27.600000143051147, 8.343, 71.546, 812.907, 1.0],\n",
       "   [27.6010000705719, 8.278, 71.546, 812.906, 1.0],\n",
       "   [27.700000047683716, 8.2, 71.568, 812.767, 1.0],\n",
       "   [27.700999975204468, 8.114, 71.569, 812.765, 1.0],\n",
       "   [27.800000190734863, 8.183, 71.591, 812.627, 1.0],\n",
       "   [27.801000118255615, 8.109, 71.592, 812.625, 1.0],\n",
       "   [27.90000009536743, 8.126, 71.614, 812.487, 1.0],\n",
       "   [27.901000022888184, 8.124, 71.614, 812.486, 1.0],\n",
       "   [28.0, 8.102, 71.637, 812.348, 1.0],\n",
       "   [28.00100016593933, 8.193, 71.637, 812.347, 1.0],\n",
       "   [28.100000143051147, 8.253, 71.66, 812.209, 1.0],\n",
       "   [28.1010000705719, 8.255, 71.66, 812.208, 1.0],\n",
       "   [28.200000047683716, 8.147, 71.683, 812.071, 1.0],\n",
       "   [28.200999975204468, 8.295, 71.683, 812.07, 1.0],\n",
       "   [28.300000190734863, 8.188, 71.706, 811.934, 1.0],\n",
       "   [28.301000118255615, 8.116, 71.706, 811.933, 1.0],\n",
       "   [28.40000009536743, 8.327, 71.729, 811.797, 1.0],\n",
       "   [28.401000022888184, 8.15, 71.729, 811.796, 1.0],\n",
       "   [28.5, 8.096, 71.752, 811.661, 1.0],\n",
       "   [28.50100016593933, 8.184, 71.752, 811.659, 1.0],\n",
       "   [28.600000143051147, 8.178, 71.775, 811.525, 1.0],\n",
       "   [28.6010000705719, 8.106, 71.775, 811.523, 1.0],\n",
       "   [28.700000047683716, 8.198, 71.798, 811.389, 1.0],\n",
       "   [28.700999975204468, 8.261, 71.798, 811.388, 1.0],\n",
       "   [28.800000190734863, 8.21, 71.821, 811.255, 1.0],\n",
       "   [28.801000118255615, 8.307, 71.821, 811.253, 1.0],\n",
       "   [28.90000009536743, 8.178, 71.844, 811.12, 1.0],\n",
       "   [28.901000022888184, 8.317, 71.844, 811.119, 1.0],\n",
       "   [29.0, 8.389, 71.867, 810.987, 1.0],\n",
       "   [29.00100016593933, 8.281, 71.867, 810.985, 1.0],\n",
       "   [29.100000143051147, 8.275, 71.89, 810.853, 1.0],\n",
       "   [29.1010000705719, 8.3, 71.891, 810.852, 1.0],\n",
       "   [29.200000047683716, 8.175, 71.913, 810.721, 1.0],\n",
       "   [29.300000190734863, 8.309, 71.937, 810.589, 1.0],\n",
       "   [29.40000009536743, 8.065, 71.96, 810.457, 1.0],\n",
       "   [29.5, 8.212, 71.983, 810.326, 1.0],\n",
       "   [29.600000143051147, 8.024, 72.006, 810.195, 1.0],\n",
       "   [29.700000047683716, 8.083, 72.029, 810.065, 1.0],\n",
       "   [29.800000190734863, 8.211, 72.053, 809.936, 1.0],\n",
       "   [29.90000009536743, 8.196, 72.076, 809.807, 1.0],\n",
       "   [30.0, 8.177, 72.099, 809.679, 1.0],\n",
       "   [30.100000143051147, 8.177, 72.123, 809.551, 1.0],\n",
       "   [30.200000047683716, 8.173, 72.146, 809.423, 1.0],\n",
       "   [30.300000190734863, 8.043, 72.169, 809.296, 1.0],\n",
       "   [30.40000009536743, 8.216, 72.193, 809.17, 1.0],\n",
       "   [30.5, 8.322, 72.216, 809.044, 1.0],\n",
       "   [30.600000143051147, 8.031, 72.239, 808.919, 1.0],\n",
       "   [30.700000047683716, 8.157, 72.263, 808.795, 1.0],\n",
       "   [30.800000190734863, 8.298, 72.286, 808.67, 1.0],\n",
       "   [30.90000009536743, 8.135, 72.31, 808.547, 1.0],\n",
       "   [31.0, 8.135, 72.333, 808.424, 1.0],\n",
       "   [31.100000143051147, 8.307, 72.357, 808.301, 1.0],\n",
       "   [31.200000047683716, 8.239, 72.38, 808.179, 1.0],\n",
       "   [31.300000190734863, 8.265, 72.404, 808.058, 1.0],\n",
       "   [31.40000009536743, 8.283, 72.427, 807.937, 1.0],\n",
       "   [31.5, 8.248, 72.451, 807.817, 1.0],\n",
       "   [31.600000143051147, 8.189, 72.475, 807.697, 1.0],\n",
       "   [31.700000047683716, 8.306, 72.498, 807.577, 1.0],\n",
       "   [31.800000190734863, 8.16, 72.522, 807.459, 1.0],\n",
       "   [31.90000009536743, 8.076, 72.545, 807.341, 1.0],\n",
       "   [32.0, 8.076, 72.569, 807.223, 1.0],\n",
       "   [32.10000014305115, 8.238, 72.593, 807.106, 1.0],\n",
       "   [32.200000047683716, 8.119, 72.616, 806.989, 1.0],\n",
       "   [32.30000019073486, 8.227, 72.64, 806.873, 1.0],\n",
       "   [32.40000009536743, 8.001, 72.664, 806.758, 1.0],\n",
       "   [32.5, 8.077, 72.688, 806.643, 1.0],\n",
       "   [32.60000014305115, 8.135, 72.711, 806.528, 1.0],\n",
       "   [32.700000047683716, 8.126, 72.735, 806.414, 1.0],\n",
       "   [32.80000019073486, 8.045, 72.759, 806.301, 1.0],\n",
       "   [32.90000009536743, 8.11, 72.783, 806.188, 1.0],\n",
       "   [33.0, 7.975, 72.807, 806.076, 1.0],\n",
       "   [33.10000014305115, 8.172, 72.831, 805.964, 1.0],\n",
       "   [33.200000047683716, 8.221, 72.854, 805.853, 1.0],\n",
       "   [33.30000019073486, 8.153, 72.878, 805.742, 1.0],\n",
       "   [33.40000009536743, 8.129, 72.902, 805.632, 1.0],\n",
       "   [33.5, 8.186, 72.926, 805.523, 1.0],\n",
       "   [33.60000014305115, 8.16, 72.95, 805.414, 1.0],\n",
       "   [33.700000047683716, 8.198, 72.974, 805.305, 1.0],\n",
       "   [33.80000019073486, 8.042, 72.998, 805.197, 1.0],\n",
       "   [33.90000009536743, 8.174, 73.022, 805.09, 1.0],\n",
       "   [34.0, 8.085, 73.046, 804.983, 1.0],\n",
       "   [34.10000014305115, 8.187, 73.07, 804.877, 1.0],\n",
       "   [34.200000047683716, 8.115, 73.094, 804.771, 1.0],\n",
       "   [34.30000019073486, 8.078, 73.118, 804.666, 1.0],\n",
       "   [34.40000009536743, 8.134, 73.142, 804.561, 1.0],\n",
       "   [34.5, 8.163, 73.167, 804.457, 1.0],\n",
       "   [34.60000014305115, 7.948, 73.191, 804.353, 1.0],\n",
       "   [34.700000047683716, 8.274, 73.215, 804.25, 1.0],\n",
       "   [34.80000019073486, 8.235, 73.239, 804.148, 1.0],\n",
       "   [34.90000009536743, 8.227, 73.263, 804.046, 1.0],\n",
       "   [35.0, 8.248, 73.287, 803.944, 1.0],\n",
       "   [35.10000014305115, 8.152, 73.312, 803.844, 1.0],\n",
       "   [35.200000047683716, 8.096, 73.336, 803.743, 1.0],\n",
       "   [35.30000019073486, 8.144, 73.36, 803.644, 1.0],\n",
       "   [35.40000009536743, 8.032, 73.384, 803.544, 1.0],\n",
       "   [35.5, 8.22, 73.409, 803.446, 1.0],\n",
       "   [35.60000014305115, 8.174, 73.433, 803.348, 1.0]]],\n",
       " 'name': ['SCOUT B-1 R/B'],\n",
       " 'variability': [0],\n",
       " 'split': [[0, 555]]}"
      ]
     },
     "execution_count": 166,
     "metadata": {},
     "output_type": "execute_result"
    }
   ],
   "source": [
    "sp.slice(0,1).to_pydict()"
   ]
  },
  {
   "cell_type": "code",
   "execution_count": 181,
   "metadata": {},
   "outputs": [],
   "source": [
    "a = {\n",
    "    \"test\": [1,2,3],\n",
    "    \"list\": [[1,2,3]]*3,\n",
    "    \"string\": \"asa\"\n",
    "}\n",
    "t = pa.table(a)"
   ]
  },
  {
   "cell_type": "code",
   "execution_count": 182,
   "metadata": {},
   "outputs": [
    {
     "data": {
      "text/plain": [
       "pyarrow.Table\n",
       "test: int64\n",
       "list: list<item: int64>\n",
       "  child 0, item: int64\n",
       "string: string\n",
       "----\n",
       "test: [[1,2,3]]\n",
       "list: [[[1,2,3],[1,2,3],[1,2,3]]]\n",
       "string: [[\"a\",\"s\",\"a\"]]"
      ]
     },
     "execution_count": 182,
     "metadata": {},
     "output_type": "execute_result"
    }
   ],
   "source": [
    "t"
   ]
  },
  {
   "cell_type": "code",
   "execution_count": null,
   "metadata": {},
   "outputs": [],
   "source": []
  }
 ],
 "metadata": {
  "kernelspec": {
   "display_name": "forest_segmentation",
   "language": "python",
   "name": "python3"
  },
  "language_info": {
   "codemirror_mode": {
    "name": "ipython",
    "version": 3
   },
   "file_extension": ".py",
   "mimetype": "text/x-python",
   "name": "python",
   "nbconvert_exporter": "python",
   "pygments_lexer": "ipython3",
   "version": "3.11.5"
  }
 },
 "nbformat": 4,
 "nbformat_minor": 2
}
